{
 "cells": [
  {
   "cell_type": "code",
   "execution_count": 23,
   "metadata": {},
   "outputs": [],
   "source": [
    "import numpy as np\n",
    "import pandas as pd\n",
    "import scipy.sparse as sp\n",
    "from scipy.sparse import csr_matrix\n",
    "from itertools import product\n",
    "import functools \n",
    "import operator \n",
    "import regex as re\n",
    "import time\n",
    "from csv import reader\n",
    "\n",
    "from classifiers import *\n",
    "from metrics import *\n",
    "from kernels import *"
   ]
  },
  {
   "cell_type": "code",
   "execution_count": 20,
   "metadata": {},
   "outputs": [],
   "source": [
    "def features_into_array(path):\n",
    "    with open(path, 'r') as read_obj:\n",
    "        csv_reader = reader(read_obj)\n",
    "        header = next(csv_reader)\n",
    "        X = list()\n",
    "        if header != None:\n",
    "            for row in csv_reader:\n",
    "                # row variable is a list that represents a row in csv\n",
    "                X.append(np.array(row[1]))\n",
    "                \n",
    "    X = np.array(X) ## dtype might be changed in something more convenient. For now, dtype = \"<U1\"\n",
    "    return X"
   ]
  },
  {
   "cell_type": "code",
   "execution_count": 176,
   "metadata": {},
   "outputs": [],
   "source": [
    "def voting_pred(X, list_K, list_alpha):\n",
    "    nb_classifiers = len(list_K)\n",
    "    nb_samples = np.shape(X)[0]\n",
    "    y_pred = np.zeros((nb_classifiers, nb_samples))\n",
    "    y_pred_vote = np.zeros(nb_samples)\n",
    "\n",
    "    for classifier_i in range(nb_classifiers):\n",
    "        a = np.reshape(list_alpha[classifier_i],-1)\n",
    "        y_pred[classifier_i] = list_K[classifier_i] @ a >= 0\n",
    "        ## each classifier makes its predictions\n",
    "        \n",
    "    for sample in range(nb_samples):\n",
    "        nb_votes_1 = len(np.where(y_pred[:,sample]==1)[0])\n",
    "        if nb_votes_1 > nb_classifiers/2:\n",
    "            y_pred_vote[sample] = 1\n",
    "    \n",
    "    return y_pred_vote"
   ]
  },
  {
   "cell_type": "markdown",
   "metadata": {},
   "source": [
    "# DATASET 0 "
   ]
  },
  {
   "cell_type": "code",
   "execution_count": 24,
   "metadata": {},
   "outputs": [],
   "source": [
    "## Kernels from spectrum kernels\n",
    "PATH = 'data/spectrum/'\n",
    "\n",
    "Ktr0_s = np.load(PATH + 'K_train0.npy')\n",
    "Kval0_s = np.load(PATH + 'K_val0.npy')\n",
    "Kte0_s = np.load(PATH + 'K_te0.npy')\n",
    "\n",
    "## Kernels from mismatch kernels\n",
    "PATH = 'data/mismatch/'\n",
    "Ktr0_m = np.load(PATH + 'K_train0.npy')\n",
    "Kval0_m = np.load(PATH + 'K_val0.npy')\n",
    "Kte0_m = np.load(PATH + 'K_te0.npy')\n"
   ]
  },
  {
   "cell_type": "code",
   "execution_count": 68,
   "metadata": {},
   "outputs": [],
   "source": [
    "Xtr0_ = features_into_array(\"data/Xtr0.csv\")\n",
    "Xte0 = features_into_array(\"data/Xte0.csv\")\n",
    "Ytr0 = np.genfromtxt(\"data/Ytr0.csv\", delimiter=',', skip_header=1)\n",
    "\n",
    "train_idx_0 = np.load('data/train_test_split/train_idx_0.npy').astype(int)\n",
    "val_idx_0 = np.load('data/train_test_split/val_idx_0.npy').astype(int)\n",
    "\n",
    "ytr0 = Ytr0[train_idx_0][:,1]\n",
    "yval0 = Ytr0[val_idx_0][:,1]\n",
    "\n",
    "Xtr0 = Xtr0_[train_idx_0]\n",
    "Xval0 = Xtr0_[val_idx_0]\n"
   ]
  },
  {
   "cell_type": "code",
   "execution_count": 165,
   "metadata": {},
   "outputs": [
    {
     "name": "stdout",
     "output_type": "stream",
     "text": [
      "(12, 400, 1600)\n"
     ]
    }
   ],
   "source": [
    "Kval0_all = np.vstack((Kval0_s, Kval0_m))\n",
    "print(np.shape(Kval0_all))"
   ]
  },
  {
   "cell_type": "code",
   "execution_count": 166,
   "metadata": {},
   "outputs": [
    {
     "name": "stdout",
     "output_type": "stream",
     "text": [
      "---------------  lambda = 0.002  ---------------\n",
      "Training: loss = 0.686072, accuracy = 0.727500\n",
      "Validation: loss = 0.798497, accuracy = 0.637500\n",
      "---------------  lambda = 0.003  ---------------\n",
      "Training: loss = 0.587996, accuracy = 0.821875\n",
      "Validation: loss = 0.797911, accuracy = 0.647500\n",
      "---------------  lambda = 0.009  ---------------\n",
      "Training: loss = 0.227732, accuracy = 0.970625\n",
      "Validation: loss = 0.795442, accuracy = 0.657500\n",
      "---------------  lambda = 0.01  ---------------\n",
      "Training: loss = 0.126440, accuracy = 0.988125\n",
      "Validation: loss = 0.842382, accuracy = 0.635000\n",
      "---------------  lambda = 0.02  ---------------\n",
      "Training: loss = 0.008491, accuracy = 0.997500\n",
      "Validation: loss = 0.884466, accuracy = 0.610000\n",
      "---------------  lambda = 0.02  ---------------\n",
      "Training: loss = 0.006651, accuracy = 0.998750\n",
      "Validation: loss = 0.898766, accuracy = 0.592500\n",
      "---------------  lambda = 0.0004  ---------------\n",
      "Training: loss = 0.632025, accuracy = 0.718750\n",
      "Validation: loss = 0.791007, accuracy = 0.617500\n",
      "---------------  lambda = 0.0002  ---------------\n",
      "Training: loss = 0.605278, accuracy = 0.761875\n",
      "Validation: loss = 0.777157, accuracy = 0.672500\n",
      "---------------  lambda = 0.0001  ---------------\n",
      "Training: loss = 0.645104, accuracy = 0.778125\n",
      "Validation: loss = 0.777120, accuracy = 0.657500\n",
      "---------------  lambda = 0.0004  ---------------\n",
      "Training: loss = 0.198255, accuracy = 0.976875\n",
      "Validation: loss = 0.774917, accuracy = 0.672500\n",
      "---------------  lambda = 0.0003  ---------------\n",
      "Training: loss = 0.204469, accuracy = 0.983750\n",
      "Validation: loss = 0.800959, accuracy = 0.675000\n",
      "---------------  lambda = 0.0006  ---------------\n",
      "Training: loss = 0.010008, accuracy = 0.995625\n",
      "Validation: loss = 0.855926, accuracy = 0.680000\n"
     ]
    }
   ],
   "source": [
    "C0_s = [0.002, 0.003, 0.009, 0.01, 0.02, 0.02]\n",
    "C0_m = [0.0004, 0.0002, 0.0001, 0.0004, 0.0003, 0.0006]\n",
    "nb_classifier_s = len(C0_s)\n",
    "nb_classifier_m = len(C0_m)\n",
    "nb_classifier_tot = nb_classifier_s + nb_classifier_m\n",
    "\n",
    "alphas_tr0 = np.zeros((nb_classifier_tot, np.shape(ytr0)[0]))\n",
    "accuracies_val0 = np.zeros(nb_classifier_tot)\n",
    "\n",
    "for i in range(nb_classifier_s) :\n",
    "    C = [C0_s[i]]\n",
    "    alpha_tr0, loss_tr0, acc_0, loss_val0, acc_val0 = SVM(Ktr0_s[i], ytr0, Kval0_s[i], yval0, C)\n",
    "    alphas_tr0[i] = alpha_tr0[0]\n",
    "    accuracies_val0[i] = acc_val0[0]\n",
    "    \n",
    "for i in range(nb_classifier_m):\n",
    "    C = [C0_m[i]]\n",
    "    alpha_tr0, loss_tr0, acc_0, loss_val0, acc_val0 = SVM(Ktr0_m[i], ytr0, Kval0_m[i], yval0, C)\n",
    "    alphas_tr0[i + nb_classifier_s] = alpha_tr0[0]\n",
    "    accuracies_val0[i + nb_classifier_s] = acc_val0[0]"
   ]
  },
  {
   "cell_type": "markdown",
   "metadata": {},
   "source": [
    "## Majority voting over all spectrum kernels : "
   ]
  },
  {
   "cell_type": "code",
   "execution_count": 170,
   "metadata": {},
   "outputs": [
    {
     "name": "stdout",
     "output_type": "stream",
     "text": [
      "Accuracy of voting  0.6525\n"
     ]
    }
   ],
   "source": [
    "prediction_voting = voting_pred(Xval0, Kval0_s, alphas_tr0[:nb_classifier_s])\n",
    "print(\"Accuracy of voting \", accuracy(yval0, prediction_voting, mode='blabla'))"
   ]
  },
  {
   "cell_type": "markdown",
   "metadata": {},
   "source": [
    "## Majority voting over all mismatch kernels : "
   ]
  },
  {
   "cell_type": "code",
   "execution_count": 175,
   "metadata": {},
   "outputs": [
    {
     "name": "stdout",
     "output_type": "stream",
     "text": [
      "Accuracy of voting  0.6775\n"
     ]
    }
   ],
   "source": [
    "prediction_voting = voting_pred(Xval0, Kval0_m, alphas_tr0[nb_classifier_s:])\n",
    "print(\"Accuracy of voting \", accuracy(yval0, prediction_voting, mode='blabla'))"
   ]
  },
  {
   "cell_type": "markdown",
   "metadata": {},
   "source": [
    "## Majority voting over all kernels : \n"
   ]
  },
  {
   "cell_type": "code",
   "execution_count": 173,
   "metadata": {},
   "outputs": [
    {
     "name": "stdout",
     "output_type": "stream",
     "text": [
      "Accuracy of voting  0.6675\n"
     ]
    }
   ],
   "source": [
    "prediction_voting = voting_pred(Xval0, Kval0_all, alphas_tr0)\n",
    "print(\"Accuracy of voting \", accuracy(yval0, prediction_voting, mode='blabla'))"
   ]
  },
  {
   "cell_type": "markdown",
   "metadata": {},
   "source": [
    "## Majority voting over all mismatch kernels : except for k = 5"
   ]
  },
  {
   "cell_type": "code",
   "execution_count": 174,
   "metadata": {},
   "outputs": [
    {
     "name": "stdout",
     "output_type": "stream",
     "text": [
      "Accuracy of voting  0.6775\n"
     ]
    }
   ],
   "source": [
    "prediction_voting = voting_pred(Xval0, Kval0_m[1:], alphas_tr0[nb_classifier_s+1:])\n",
    "print(\"Accuracy of voting \", accuracy(yval0, prediction_voting, mode='blabla'))"
   ]
  },
  {
   "cell_type": "markdown",
   "metadata": {},
   "source": [
    "# DATASET 1"
   ]
  },
  {
   "cell_type": "code",
   "execution_count": 181,
   "metadata": {},
   "outputs": [],
   "source": [
    "## Kernels from spectrum kernels\n",
    "PATH = 'data/spectrum/'\n",
    "\n",
    "Ktr1_s = np.load(PATH + 'K_train1.npy')\n",
    "Kval1_s = np.load(PATH + 'K_val1.npy')\n",
    "Kte1_s = np.load(PATH + 'K_te1.npy')\n",
    "\n",
    "## Kernels from mismatch kernels\n",
    "PATH = 'data/mismatch/'\n",
    "Ktr1_m = np.load(PATH + 'K_train1.npy')\n",
    "Kval1_m = np.load(PATH + 'K_val1.npy')\n",
    "Kte1_m = np.load(PATH + 'K_te1.npy')"
   ]
  },
  {
   "cell_type": "code",
   "execution_count": 182,
   "metadata": {},
   "outputs": [],
   "source": [
    "Xtr1_ = features_into_array(\"data/Xtr1.csv\")\n",
    "Xte1 = features_into_array(\"data/Xte1.csv\")\n",
    "Ytr1 = np.genfromtxt(\"data/Ytr1.csv\", delimiter=',', skip_header=1)\n",
    "\n",
    "train_idx_1 = np.load('data/train_test_split/train_idx_1.npy').astype(int)\n",
    "val_idx_1 = np.load('data/train_test_split/val_idx_1.npy').astype(int)\n",
    "\n",
    "ytr1 = Ytr1[train_idx_1 - 2000][:,1]\n",
    "yval1 = Ytr1[val_idx_1 - 2000][:,1]\n",
    "\n",
    "Xtr1 = Xtr1_[train_idx_1 - 2000]\n",
    "Xval1 = Xtr1_[val_idx_1 - 2000]"
   ]
  },
  {
   "cell_type": "code",
   "execution_count": 184,
   "metadata": {},
   "outputs": [
    {
     "name": "stdout",
     "output_type": "stream",
     "text": [
      "(12, 400, 1600)\n"
     ]
    }
   ],
   "source": [
    "Kval1_all = np.vstack((Kval1_s, Kval1_m))\n",
    "print(np.shape(Kval1_all))"
   ]
  },
  {
   "cell_type": "code",
   "execution_count": 185,
   "metadata": {},
   "outputs": [
    {
     "name": "stdout",
     "output_type": "stream",
     "text": [
      "---------------  lambda = 0.005  ---------------\n",
      "Training: loss = 0.559067, accuracy = 0.791875\n",
      "Validation: loss = 0.791559, accuracy = 0.642500\n",
      "---------------  lambda = 0.004  ---------------\n",
      "Training: loss = 0.524851, accuracy = 0.867500\n",
      "Validation: loss = 0.809016, accuracy = 0.645000\n",
      "---------------  lambda = 0.007  ---------------\n",
      "Training: loss = 0.316770, accuracy = 0.974375\n",
      "Validation: loss = 0.831072, accuracy = 0.660000\n",
      "---------------  lambda = 0.009  ---------------\n",
      "Training: loss = 0.168295, accuracy = 0.998125\n",
      "Validation: loss = 0.866640, accuracy = 0.667500\n",
      "---------------  lambda = 0.01  ---------------\n",
      "Training: loss = 0.091733, accuracy = 1.000000\n",
      "Validation: loss = 0.910978, accuracy = 0.617500\n",
      "---------------  lambda = 0.02  ---------------\n",
      "Training: loss = 0.000018, accuracy = 1.000000\n",
      "Validation: loss = 0.935424, accuracy = 0.585000\n",
      "---------------  lambda = 0.0003  ---------------\n",
      "Training: loss = 0.655350, accuracy = 0.730000\n",
      "Validation: loss = 0.818788, accuracy = 0.610000\n",
      "---------------  lambda = 0.0004  ---------------\n",
      "Training: loss = 0.467750, accuracy = 0.833125\n",
      "Validation: loss = 0.768899, accuracy = 0.655000\n",
      "---------------  lambda = 0.0002  ---------------\n",
      "Training: loss = 0.503318, accuracy = 0.865000\n",
      "Validation: loss = 0.798266, accuracy = 0.672500\n",
      "---------------  lambda = 0.0005  ---------------\n",
      "Training: loss = 0.123711, accuracy = 0.995000\n",
      "Validation: loss = 0.772329, accuracy = 0.670000\n",
      "---------------  lambda = 0.0004  ---------------\n",
      "Training: loss = 0.087248, accuracy = 0.998750\n",
      "Validation: loss = 0.830510, accuracy = 0.662500\n",
      "---------------  lambda = 0.0003  ---------------\n",
      "Training: loss = 0.128701, accuracy = 1.000000\n",
      "Validation: loss = 0.878896, accuracy = 0.685000\n"
     ]
    }
   ],
   "source": [
    "C1_s = [0.005, 0.004, 0.007, 0.009, 0.01, 0.02]\n",
    "C1_m = [0.0003, 0.0004, 0.0002, 0.0005, 0.0004, 0.0003]\n",
    "nb_classifier_s = len(C1_s)\n",
    "nb_classifier_m = len(C1_m)\n",
    "nb_classifier_tot = nb_classifier_s + nb_classifier_m\n",
    "\n",
    "alphas_tr1 = np.zeros((nb_classifier_tot, np.shape(ytr1)[0]))\n",
    "accuracies_val1 = np.zeros(nb_classifier_tot)\n",
    "\n",
    "for i in range(nb_classifier_s) :\n",
    "    C = [C1_s[i]]\n",
    "    alpha_tr1, loss_tr1, acc_1, loss_val1, acc_val1 = SVM(Ktr1_s[i], ytr1, Kval1_s[i], yval1, C)\n",
    "    alphas_tr1[i] = alpha_tr1[0]\n",
    "    accuracies_val1[i] = acc_val1[0]\n",
    "    \n",
    "for i in range(nb_classifier_m):\n",
    "    C = [C1_m[i]]\n",
    "    alpha_tr1, loss_tr1, acc_1, loss_val1, acc_val1 = SVM(Ktr1_m[i], ytr1, Kval1_m[i], yval1, C)\n",
    "    alphas_tr1[i + nb_classifier_s] = alpha_tr1[0]\n",
    "    accuracies_val1[i + nb_classifier_s] = acc_val1[0]"
   ]
  },
  {
   "cell_type": "markdown",
   "metadata": {},
   "source": [
    "## Majority voting over all spectrum kernels : "
   ]
  },
  {
   "cell_type": "code",
   "execution_count": 186,
   "metadata": {},
   "outputs": [
    {
     "name": "stdout",
     "output_type": "stream",
     "text": [
      "Accuracy of voting  0.6575\n"
     ]
    }
   ],
   "source": [
    "prediction_voting = voting_pred(Xval1, Kval1_s, alphas_tr1[:nb_classifier_s])\n",
    "print(\"Accuracy of voting \", accuracy(yval1, prediction_voting, mode='blabla'))"
   ]
  },
  {
   "cell_type": "markdown",
   "metadata": {},
   "source": [
    "## Majority voting over all mismatch kernels : \n"
   ]
  },
  {
   "cell_type": "code",
   "execution_count": 187,
   "metadata": {},
   "outputs": [
    {
     "name": "stdout",
     "output_type": "stream",
     "text": [
      "Accuracy of voting  0.6825\n"
     ]
    }
   ],
   "source": [
    "prediction_voting = voting_pred(Xval1, Kval1_m, alphas_tr1[nb_classifier_s:])\n",
    "print(\"Accuracy of voting \", accuracy(yval1, prediction_voting, mode='blabla'))"
   ]
  },
  {
   "cell_type": "markdown",
   "metadata": {},
   "source": [
    "## Majority voting over all kernels : "
   ]
  },
  {
   "cell_type": "code",
   "execution_count": 188,
   "metadata": {},
   "outputs": [
    {
     "name": "stdout",
     "output_type": "stream",
     "text": [
      "Accuracy of voting  0.6775\n"
     ]
    }
   ],
   "source": [
    "prediction_voting = voting_pred(Xval1, Kval1_all, alphas_tr1)\n",
    "print(\"Accuracy of voting \", accuracy(yval1, prediction_voting, mode='blabla'))"
   ]
  },
  {
   "cell_type": "markdown",
   "metadata": {},
   "source": [
    "## Majority voting over all mismatch kernels : except for k = 5"
   ]
  },
  {
   "cell_type": "code",
   "execution_count": 189,
   "metadata": {},
   "outputs": [
    {
     "name": "stdout",
     "output_type": "stream",
     "text": [
      "Accuracy of voting  0.6775\n"
     ]
    }
   ],
   "source": [
    "prediction_voting = voting_pred(Xval1, Kval1_m[1:], alphas_tr1[nb_classifier_s+1:])\n",
    "print(\"Accuracy of voting \", accuracy(yval1, prediction_voting, mode='blabla'))"
   ]
  },
  {
   "cell_type": "markdown",
   "metadata": {},
   "source": [
    "# DATASET 2"
   ]
  },
  {
   "cell_type": "code",
   "execution_count": 193,
   "metadata": {},
   "outputs": [],
   "source": [
    "## Kernels from spectrum kernels\n",
    "PATH = 'data/spectrum/'\n",
    "\n",
    "Ktr2_s = np.load(PATH + 'K_train2.npy')\n",
    "Kval2_s = np.load(PATH + 'K_val2.npy')\n",
    "Kte2_s = np.load(PATH + 'K_te2.npy')\n",
    "\n",
    "## Kernels from mismatch kernels\n",
    "PATH = 'data/mismatch/'\n",
    "Ktr2_m = np.load(PATH + 'K_train2.npy')\n",
    "Kval2_m = np.load(PATH + 'K_val2.npy')\n",
    "Kte2_m = np.load(PATH + 'K_te2.npy')"
   ]
  },
  {
   "cell_type": "code",
   "execution_count": 194,
   "metadata": {},
   "outputs": [],
   "source": [
    "Xtr2_ = features_into_array(\"data/Xtr2.csv\")\n",
    "Xte2 = features_into_array(\"data/Xte2.csv\")\n",
    "Ytr2 = np.genfromtxt(\"data/Ytr2.csv\", delimiter=',', skip_header=1)\n",
    "\n",
    "train_idx_2 = np.load('data/train_test_split/train_idx_2.npy').astype(int)\n",
    "val_idx_2 = np.load('data/train_test_split/val_idx_2.npy').astype(int)\n",
    "\n",
    "ytr2 = Ytr2[train_idx_2 - 4000][:,1]\n",
    "yval2 = Ytr2[val_idx_2 - 4000][:,1]\n",
    "\n",
    "Xtr2 = Xtr2_[train_idx_2 - 4000]\n",
    "Xval2 = Xtr2_[val_idx_2 - 4000]"
   ]
  },
  {
   "cell_type": "code",
   "execution_count": 195,
   "metadata": {},
   "outputs": [
    {
     "name": "stdout",
     "output_type": "stream",
     "text": [
      "(12, 400, 1600)\n"
     ]
    }
   ],
   "source": [
    "Kval2_all = np.vstack((Kval2_s, Kval2_m))\n",
    "print(np.shape(Kval2_all))"
   ]
  },
  {
   "cell_type": "code",
   "execution_count": 196,
   "metadata": {},
   "outputs": [
    {
     "name": "stdout",
     "output_type": "stream",
     "text": [
      "---------------  lambda = 0.0002  ---------------\n",
      "Training: loss = 0.854027, accuracy = 0.699375\n",
      "Validation: loss = 0.867939, accuracy = 0.667500\n",
      "---------------  lambda = 0.0005  ---------------\n",
      "Training: loss = 0.780414, accuracy = 0.719375\n",
      "Validation: loss = 0.812058, accuracy = 0.657500\n",
      "---------------  lambda = 0.0005  ---------------\n",
      "Training: loss = 0.829778, accuracy = 0.839375\n",
      "Validation: loss = 0.857525, accuracy = 0.675000\n",
      "---------------  lambda = 0.0004  ---------------\n",
      "Training: loss = 0.883438, accuracy = 0.956875\n",
      "Validation: loss = 0.903911, accuracy = 0.702500\n",
      "---------------  lambda = 0.0004  ---------------\n",
      "Training: loss = 0.900441, accuracy = 0.987500\n",
      "Validation: loss = 0.923077, accuracy = 0.707500\n",
      "---------------  lambda = 0.001  ---------------\n",
      "Training: loss = 0.814258, accuracy = 0.992500\n",
      "Validation: loss = 0.880315, accuracy = 0.697500\n",
      "---------------  lambda = 0.006  ---------------\n",
      "Training: loss = 0.341788, accuracy = 0.861250\n",
      "Validation: loss = 0.760811, accuracy = 0.687500\n",
      "---------------  lambda = 0.008  ---------------\n",
      "Training: loss = 0.005412, accuracy = 0.998125\n",
      "Validation: loss = 0.689683, accuracy = 0.692500\n",
      "---------------  lambda = 0.01  ---------------\n",
      "Training: loss = 0.000000, accuracy = 1.000000\n",
      "Validation: loss = 0.647151, accuracy = 0.735000\n",
      "---------------  lambda = 0.08  ---------------\n",
      "Training: loss = 0.000000, accuracy = 1.000000\n",
      "Validation: loss = 0.631169, accuracy = 0.745000\n",
      "---------------  lambda = 0.02  ---------------\n",
      "Training: loss = 0.000000, accuracy = 1.000000\n",
      "Validation: loss = 0.658036, accuracy = 0.775000\n",
      "---------------  lambda = 0.02  ---------------\n",
      "Training: loss = 0.000000, accuracy = 1.000000\n",
      "Validation: loss = 0.699773, accuracy = 0.767500\n"
     ]
    }
   ],
   "source": [
    "C2_s = [0.0002, 0.0005, 0.0005, 0.0004, 0.0004, 0.001]\n",
    "C2_m = [0.006, 0.008, 0.01, 0.08, 0.02, 0.02]\n",
    "nb_classifier_s = len(C2_s)\n",
    "nb_classifier_m = len(C2_m)\n",
    "nb_classifier_tot = nb_classifier_s + nb_classifier_m\n",
    "\n",
    "alphas_tr2 = np.zeros((nb_classifier_tot, np.shape(ytr2)[0]))\n",
    "accuracies_val2 = np.zeros(nb_classifier_tot)\n",
    "\n",
    "for i in range(nb_classifier_s) :\n",
    "    C = [C2_s[i]]\n",
    "    alpha_tr2, loss_tr2, acc_2, loss_val2, acc_val2 = SVM(Ktr2_s[i], ytr2, Kval2_s[i], yval2, C)\n",
    "    alphas_tr2[i] = alpha_tr2[0]\n",
    "    accuracies_val2[i] = acc_val2[0]\n",
    "    \n",
    "for i in range(nb_classifier_m):\n",
    "    C = [C2_m[i]]\n",
    "    alpha_tr2, loss_tr2, acc_2, loss_val2, acc_val2 = SVM(Ktr2_m[i], ytr2, Kval2_m[i], yval2, C)\n",
    "    alphas_tr2[i + nb_classifier_s] = alpha_tr2[0]\n",
    "    accuracies_val2[i + nb_classifier_s] = acc_val2[0]"
   ]
  },
  {
   "cell_type": "markdown",
   "metadata": {},
   "source": [
    "## Majority voting over all spectrum kernels : "
   ]
  },
  {
   "cell_type": "code",
   "execution_count": 197,
   "metadata": {},
   "outputs": [
    {
     "name": "stdout",
     "output_type": "stream",
     "text": [
      "Accuracy of voting  0.705\n"
     ]
    }
   ],
   "source": [
    "prediction_voting = voting_pred(Xval2, Kval2_s, alphas_tr2[:nb_classifier_s])\n",
    "print(\"Accuracy of voting \", accuracy(yval2, prediction_voting, mode='blabla'))"
   ]
  },
  {
   "cell_type": "markdown",
   "metadata": {},
   "source": [
    "## Majority voting over all mismatch kernels : \n",
    "\n"
   ]
  },
  {
   "cell_type": "code",
   "execution_count": 198,
   "metadata": {},
   "outputs": [
    {
     "name": "stdout",
     "output_type": "stream",
     "text": [
      "Accuracy of voting  0.7575\n"
     ]
    }
   ],
   "source": [
    "prediction_voting = voting_pred(Xval2, Kval2_m, alphas_tr2[nb_classifier_s:])\n",
    "print(\"Accuracy of voting \", accuracy(yval2, prediction_voting, mode='blabla'))"
   ]
  },
  {
   "cell_type": "markdown",
   "metadata": {},
   "source": [
    "## Majority voting over all kernels : "
   ]
  },
  {
   "cell_type": "code",
   "execution_count": 199,
   "metadata": {},
   "outputs": [
    {
     "name": "stdout",
     "output_type": "stream",
     "text": [
      "Accuracy of voting  0.73\n"
     ]
    }
   ],
   "source": [
    "prediction_voting = voting_pred(Xval2, Kval2_all, alphas_tr2)\n",
    "print(\"Accuracy of voting \", accuracy(yval2, prediction_voting, mode='blabla'))"
   ]
  },
  {
   "cell_type": "markdown",
   "metadata": {},
   "source": [
    "## Majority voting over all mismatch kernels : except for k = 5"
   ]
  },
  {
   "cell_type": "code",
   "execution_count": 200,
   "metadata": {},
   "outputs": [
    {
     "name": "stdout",
     "output_type": "stream",
     "text": [
      "Accuracy of voting  0.77\n"
     ]
    }
   ],
   "source": [
    "prediction_voting = voting_pred(Xval2, Kval2_m[1:], alphas_tr2[nb_classifier_s+1:])\n",
    "print(\"Accuracy of voting \", accuracy(yval2, prediction_voting, mode='blabla'))"
   ]
  },
  {
   "cell_type": "code",
   "execution_count": null,
   "metadata": {},
   "outputs": [],
   "source": []
  }
 ],
 "metadata": {
  "kernelspec": {
   "display_name": "optim",
   "language": "python",
   "name": "optim"
  },
  "language_info": {
   "codemirror_mode": {
    "name": "ipython",
    "version": 3
   },
   "file_extension": ".py",
   "mimetype": "text/x-python",
   "name": "python",
   "nbconvert_exporter": "python",
   "pygments_lexer": "ipython3",
   "version": "3.8.5"
  }
 },
 "nbformat": 4,
 "nbformat_minor": 4
}
