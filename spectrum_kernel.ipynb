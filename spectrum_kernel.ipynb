{
 "cells": [
  {
   "cell_type": "code",
   "execution_count": 1,
   "metadata": {},
   "outputs": [],
   "source": [
    "import numpy as np\n",
    "import pandas as pd"
   ]
  },
  {
   "cell_type": "markdown",
   "metadata": {},
   "source": [
    "# Load the data"
   ]
  },
  {
   "cell_type": "code",
   "execution_count": 58,
   "metadata": {},
   "outputs": [],
   "source": [
    "from csv import reader\n",
    "\n",
    "def features_into_array(path):\n",
    "    with open(path, 'r') as read_obj:\n",
    "        csv_reader = reader(read_obj)\n",
    "        header = next(csv_reader)\n",
    "        X = list()\n",
    "        if header != None:\n",
    "            for row in csv_reader:\n",
    "                # row variable is a list that represents a row in csv\n",
    "                X.append(np.array(row[1]))\n",
    "                \n",
    "    X = np.array(X) ## dtype might be changed in something more convenient. For now, dtype = \"<U1\"\n",
    "    return X"
   ]
  },
  {
   "cell_type": "code",
   "execution_count": 59,
   "metadata": {},
   "outputs": [],
   "source": [
    "Xtr0 = features_into_array(\"data/Xtr0.csv\")\n",
    "Ytr0 = np.genfromtxt(\"data/Ytr0.csv\", delimiter=',', skip_header=1)\n",
    "\n",
    "Xtr1 = features_into_array(\"data/Xtr1.csv\")\n",
    "Ytr1 = np.genfromtxt(\"data/Ytr1.csv\", delimiter=',', skip_header=1)\n",
    "\n",
    "Xtr2 = features_into_array(\"data/Xtr2.csv\")\n",
    "Ytr2 = np.genfromtxt(\"data/Ytr2.csv\", delimiter=',', skip_header=1)"
   ]
  },
  {
   "cell_type": "code",
   "execution_count": 57,
   "metadata": {},
   "outputs": [],
   "source": [
    "def accuracy(y_true,y_pred):\n",
    "    n = y_true.shape[0]\n",
    "    predictions = np.zeros(n)\n",
    "    predictions[y_pred >= 0.5] = 1\n",
    "    return np.sum(y_true == predictions) / n"
   ]
  },
  {
   "cell_type": "code",
   "execution_count": 62,
   "metadata": {},
   "outputs": [
    {
     "data": {
      "text/plain": [
       "'TCCTGTGCACATCTGCACCCCTGTTGTGGCCACAAAATGATCCGGCACCACCCAGTGGGAGACGACAGAGGTGGCAATGGGGTGTCGGCTCTGACGCCTCC'"
      ]
     },
     "execution_count": 62,
     "metadata": {},
     "output_type": "execute_result"
    }
   ],
   "source": [
    "Xtr0[0]"
   ]
  },
  {
   "cell_type": "markdown",
   "metadata": {},
   "source": [
    "## Spectrum kernel\n",
    "\n",
    "For a fixed value k (that needs to be tuned), the k-spectrum kernel is defined as : \n",
    "\n",
    "\n",
    "\\begin{align*}\n",
    "K(x,x^{\\prime}) := \\sum_{u \\in \\mathcal{A}^k} \\phi_{u}(x) \\phi_{u}(x^{\\prime})\n",
    "\\end{align*}"
   ]
  },
  {
   "cell_type": "code",
   "execution_count": 88,
   "metadata": {},
   "outputs": [],
   "source": [
    "from itertools import product\n",
    "import functools \n",
    "import operator "
   ]
  },
  {
   "cell_type": "code",
   "execution_count": 94,
   "metadata": {},
   "outputs": [],
   "source": [
    "def all_possible_substrings(k):\n",
    "    \"\"\"\n",
    "    With a k spectrum kernel, let us find all the possible combinations of chars of size k in the sequence x\n",
    "    This way, we could index them in the sequence x\n",
    "    \"\"\"\n",
    "    char_list = list(['A', 'C','G','T'])\n",
    "    alphabet_tuples = list(product(char_list,repeat=k))\n",
    "    alphabet = list()\n",
    "    for i in alphabet_tuples:\n",
    "        alphabet.append(functools.reduce(operator.add, (i)))\n",
    "    return alphabet"
   ]
  },
  {
   "cell_type": "code",
   "execution_count": 95,
   "metadata": {},
   "outputs": [
    {
     "data": {
      "text/plain": [
       "['AAA',\n",
       " 'AAC',\n",
       " 'AAG',\n",
       " 'AAT',\n",
       " 'ACA',\n",
       " 'ACC',\n",
       " 'ACG',\n",
       " 'ACT',\n",
       " 'AGA',\n",
       " 'AGC',\n",
       " 'AGG',\n",
       " 'AGT',\n",
       " 'ATA',\n",
       " 'ATC',\n",
       " 'ATG',\n",
       " 'ATT',\n",
       " 'CAA',\n",
       " 'CAC',\n",
       " 'CAG',\n",
       " 'CAT',\n",
       " 'CCA',\n",
       " 'CCC',\n",
       " 'CCG',\n",
       " 'CCT',\n",
       " 'CGA',\n",
       " 'CGC',\n",
       " 'CGG',\n",
       " 'CGT',\n",
       " 'CTA',\n",
       " 'CTC',\n",
       " 'CTG',\n",
       " 'CTT',\n",
       " 'GAA',\n",
       " 'GAC',\n",
       " 'GAG',\n",
       " 'GAT',\n",
       " 'GCA',\n",
       " 'GCC',\n",
       " 'GCG',\n",
       " 'GCT',\n",
       " 'GGA',\n",
       " 'GGC',\n",
       " 'GGG',\n",
       " 'GGT',\n",
       " 'GTA',\n",
       " 'GTC',\n",
       " 'GTG',\n",
       " 'GTT',\n",
       " 'TAA',\n",
       " 'TAC',\n",
       " 'TAG',\n",
       " 'TAT',\n",
       " 'TCA',\n",
       " 'TCC',\n",
       " 'TCG',\n",
       " 'TCT',\n",
       " 'TGA',\n",
       " 'TGC',\n",
       " 'TGG',\n",
       " 'TGT',\n",
       " 'TTA',\n",
       " 'TTC',\n",
       " 'TTG',\n",
       " 'TTT']"
      ]
     },
     "execution_count": 95,
     "metadata": {},
     "output_type": "execute_result"
    }
   ],
   "source": [
    "## example\n",
    "\n",
    "all_possible_substrings(3)"
   ]
  },
  {
   "cell_type": "code",
   "execution_count": 112,
   "metadata": {},
   "outputs": [],
   "source": [
    "import regex as re\n",
    "\n",
    "## TODO : a function that computes occurences \n",
    "## with overlapping option without calling regex if we have remaining time (lol)\n",
    "\n",
    "def pre_indexing(x, k):\n",
    "    alphabet = all_possible_substrings(k)\n",
    "    return dict((letter, len(re.findall(letter, x, overlapped=True))) for letter in alphabet)"
   ]
  },
  {
   "cell_type": "code",
   "execution_count": 140,
   "metadata": {},
   "outputs": [],
   "source": [
    "def spectrum_function(x,y,k):\n",
    "    phi_x = pre_indexing(x, k)\n",
    "    phi_y = pre_indexing(y, k)\n",
    "    \n",
    "    merge_dict = {k: phi_x.get(k, 0) * phi_y.get(k, 0) for k in set(phi_x)}\n",
    "    return sum(merge_dict.values())\n",
    "\n",
    "def spectrum_kernel(X_train, X_val, k, mode=\"train\"):\n",
    "    n = X.shape[0]\n",
    "    \n",
    "    diag_train, diag_val = np.zeros(n), np.zeros(n)\n",
    "    for i in range(n):\n",
    "        diag_train[i] = spectrum_function(X_train[i], X_train[i],k)\n",
    "        diag_val[i] = spectrum_function(X_train[i], X_val[i],k)\n",
    "        \n",
    "    K_train = diag_train * np.eye(n) # Computation along the diagonal \n",
    "    K_val = diag_val * np.eye(n) # Computation along the diagonal \n",
    "    \n",
    "    if mode==\"test\":\n",
    "        for i in range(n):\n",
    "            for j in range(i+1,n):\n",
    "                val = spectrum_function(X_train[i], X_val[j], k)\n",
    "                K_val[i,j] = val\n",
    "                K_val[j,i] = val\n",
    "        return(K_val)\n",
    "    \n",
    "    else:\n",
    "        for i in range(n):\n",
    "            for j in range(i+1,n):\n",
    "                val = spectrum_function(X_train[i], X_train[j], k)\n",
    "                K_train[i,j] = val\n",
    "                K_train[j,i] = val\n",
    "        return(K_train)\n",
    "    \n",
    "    return (K_train, K_val)"
   ]
  },
  {
   "cell_type": "code",
   "execution_count": 141,
   "metadata": {},
   "outputs": [
    {
     "data": {
      "text/plain": [
       "array([[279., 140., 152., ..., 206., 188., 236.],\n",
       "       [140., 309., 161., ..., 201., 135., 130.],\n",
       "       [152., 161., 309., ..., 136., 173., 108.],\n",
       "       ...,\n",
       "       [206., 201., 136., ..., 331., 161., 236.],\n",
       "       [188., 135., 173., ..., 161., 257., 163.],\n",
       "       [236., 130., 108., ..., 236., 163., 419.]])"
      ]
     },
     "execution_count": 141,
     "metadata": {},
     "output_type": "execute_result"
    }
   ],
   "source": [
    "spectrum_kernel(Xtr0,3)"
   ]
  },
  {
   "cell_type": "code",
   "execution_count": 130,
   "metadata": {},
   "outputs": [
    {
     "name": "stdout",
     "output_type": "stream",
     "text": [
      "x  {'AAA': 2, 'AAC': 0, 'AAG': 0, 'AAT': 2, 'ACA': 3, 'ACC': 3, 'ACG': 2, 'ACT': 0, 'AGA': 2, 'AGC': 0, 'AGG': 1, 'AGT': 1, 'ATA': 0, 'ATC': 2, 'ATG': 2, 'ATT': 0, 'CAA': 2, 'CAC': 5, 'CAG': 2, 'CAT': 1, 'CCA': 3, 'CCC': 3, 'CCG': 1, 'CCT': 3, 'CGA': 1, 'CGC': 1, 'CGG': 2, 'CGT': 0, 'CTA': 0, 'CTC': 2, 'CTG': 4, 'CTT': 0, 'GAA': 0, 'GAC': 3, 'GAG': 2, 'GAT': 1, 'GCA': 4, 'GCC': 2, 'GCG': 0, 'GCT': 1, 'GGA': 1, 'GGC': 4, 'GGG': 3, 'GGT': 2, 'GTA': 0, 'GTC': 1, 'GTG': 5, 'GTT': 1, 'TAA': 0, 'TAC': 0, 'TAG': 0, 'TAT': 0, 'TCA': 0, 'TCC': 3, 'TCG': 1, 'TCT': 2, 'TGA': 2, 'TGC': 2, 'TGG': 4, 'TGT': 4, 'TTA': 0, 'TTC': 0, 'TTG': 1, 'TTT': 0}\n",
      "\n",
      "y  {'AAA': 1, 'AAC': 1, 'AAG': 3, 'AAT': 2, 'ACA': 1, 'ACC': 4, 'ACG': 0, 'ACT': 0, 'AGA': 3, 'AGC': 0, 'AGG': 0, 'AGT': 3, 'ATA': 3, 'ATC': 4, 'ATG': 0, 'ATT': 2, 'CAA': 2, 'CAC': 2, 'CAG': 1, 'CAT': 1, 'CCA': 3, 'CCC': 2, 'CCG': 0, 'CCT': 4, 'CGA': 0, 'CGC': 0, 'CGG': 0, 'CGT': 0, 'CTA': 4, 'CTC': 1, 'CTG': 1, 'CTT': 1, 'GAA': 1, 'GAC': 0, 'GAG': 0, 'GAT': 2, 'GCA': 0, 'GCC': 1, 'GCG': 0, 'GCT': 0, 'GGA': 0, 'GGC': 0, 'GGG': 0, 'GGT': 0, 'GTA': 1, 'GTC': 0, 'GTG': 2, 'GTT': 4, 'TAA': 3, 'TAC': 2, 'TAG': 2, 'TAT': 4, 'TCA': 2, 'TCC': 2, 'TCG': 0, 'TCT': 4, 'TGA': 0, 'TGC': 1, 'TGG': 0, 'TGT': 4, 'TTA': 3, 'TTC': 3, 'TTG': 2, 'TTT': 7}\n",
      "\n",
      "dict_values([2, 0, 0, 4, 3, 12, 0, 0, 6, 0, 0, 3, 0, 8, 0, 0, 4, 10, 2, 1, 9, 6, 0, 12, 0, 0, 0, 0, 0, 2, 4, 0, 0, 0, 0, 2, 0, 2, 0, 0, 0, 0, 0, 0, 0, 0, 10, 4, 0, 0, 0, 0, 0, 6, 0, 8, 0, 2, 0, 16, 0, 0, 2, 0])\n"
     ]
    }
   ],
   "source": [
    "## example\n",
    "\n",
    "x = pre_indexing(Xtr0[0], 3)\n",
    "print(\"x \", x)\n",
    "print(\"\")\n",
    "y = pre_indexing(Xtr0[1], 3)\n",
    "print('y ', y)\n",
    "\n",
    "print('')\n",
    "print(({k: x.get(k, 0) * y.get(k, 0) for k in x}.values()))\n"
   ]
  },
  {
   "cell_type": "code",
   "execution_count": null,
   "metadata": {},
   "outputs": [],
   "source": []
  }
 ],
 "metadata": {
  "kernelspec": {
   "display_name": "optim",
   "language": "python",
   "name": "optim"
  },
  "language_info": {
   "codemirror_mode": {
    "name": "ipython",
    "version": 3
   },
   "file_extension": ".py",
   "mimetype": "text/x-python",
   "name": "python",
   "nbconvert_exporter": "python",
   "pygments_lexer": "ipython3",
   "version": "3.8.5"
  }
 },
 "nbformat": 4,
 "nbformat_minor": 4
}
