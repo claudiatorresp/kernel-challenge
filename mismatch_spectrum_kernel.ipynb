{
 "cells": [
  {
   "cell_type": "code",
   "execution_count": 1,
   "metadata": {},
   "outputs": [],
   "source": [
    "import numpy as np\n",
    "import pandas as pd\n",
    "import scipy.sparse as sp\n",
    "from scipy.sparse import csr_matrix\n",
    "from itertools import product, chain\n",
    "import functools \n",
    "import operator \n",
    "from csv import reader\n",
    "import regex as re"
   ]
  },
  {
   "cell_type": "markdown",
   "metadata": {},
   "source": [
    "# Load the data"
   ]
  },
  {
   "cell_type": "code",
   "execution_count": 2,
   "metadata": {},
   "outputs": [],
   "source": [
    "def features_into_array(path):\n",
    "    with open(path, 'r') as read_obj:\n",
    "        csv_reader = reader(read_obj)\n",
    "        header = next(csv_reader)\n",
    "        X = list()\n",
    "        if header != None:\n",
    "            for row in csv_reader:\n",
    "                # row variable is a list that represents a row in csv\n",
    "                X.append(np.array(row[1]))\n",
    "                \n",
    "    X = np.array(X) ## dtype might be changed in something more convenient. For now, dtype = \"<U1\"\n",
    "    return X"
   ]
  },
  {
   "cell_type": "code",
   "execution_count": 3,
   "metadata": {},
   "outputs": [],
   "source": [
    "Xtr0 = features_into_array(\"data/Xtr0.csv\")\n",
    "Ytr0 = np.genfromtxt(\"data/Ytr0.csv\", delimiter=',', skip_header=1)\n",
    "\n",
    "Xtr1 = features_into_array(\"data/Xtr1.csv\")\n",
    "Ytr1 = np.genfromtxt(\"data/Ytr1.csv\", delimiter=',', skip_header=1)\n",
    "\n",
    "Xtr2 = features_into_array(\"data/Xtr2.csv\")\n",
    "Ytr2 = np.genfromtxt(\"data/Ytr2.csv\", delimiter=',', skip_header=1)"
   ]
  },
  {
   "cell_type": "code",
   "execution_count": 4,
   "metadata": {},
   "outputs": [],
   "source": [
    "def accuracy(y_true,y_pred, mode='SVM'):\n",
    "    n = y_true.shape[0]\n",
    "    if mode == 'SVM':\n",
    "        predictions = np.ones(n)\n",
    "        predictions[y_pred < 0] = 0\n",
    "    else:\n",
    "        predictions = np.zeros(n)\n",
    "        predictions[y_pred >= 0.5] = 1\n",
    "    \n",
    "    return np.sum(y_true == predictions) / n"
   ]
  },
  {
   "cell_type": "code",
   "execution_count": 5,
   "metadata": {},
   "outputs": [
    {
     "data": {
      "text/plain": [
       "'TCCTGTGCACATCTGCACCCCTGTTGTGGCCACAAAATGATCCGGCACCACCCAGTGGGAGACGACAGAGGTGGCAATGGGGTGTCGGCTCTGACGCCTCC'"
      ]
     },
     "execution_count": 5,
     "metadata": {},
     "output_type": "execute_result"
    }
   ],
   "source": [
    "Xtr0[0]"
   ]
  },
  {
   "cell_type": "markdown",
   "metadata": {},
   "source": [
    "## Mismatch Spectrum kernel\n",
    "\n",
    "For a fixed value k (that needs to be tuned), the k-spectrum kernel is defined as : \n",
    "\n",
    "\n",
    "\\begin{align*}\n",
    "K(x,x^{\\prime}) := \\sum_{u \\in \\mathcal{A}^k} \\phi_{u}(x) \\phi_{u}(x^{\\prime})\n",
    "\\end{align*}\n",
    "\n",
    "We relax this constraint by authorizing each word of the alphabet to have up to m mismatches."
   ]
  },
  {
   "cell_type": "code",
   "execution_count": 6,
   "metadata": {},
   "outputs": [],
   "source": [
    "def all_possible_substrings(k):\n",
    "    \"\"\"\n",
    "    With a k spectrum kernel, let us find all the possible combinations of chars of size k in the sequence x\n",
    "    This way, we could index them in the sequence x\n",
    "    \"\"\"\n",
    "    char_list = list(['A', 'C','G','T'])\n",
    "    alphabet_tuples = list(product(char_list,repeat=k))\n",
    "    alphabet = list()\n",
    "    for i in alphabet_tuples:\n",
    "        alphabet.append(functools.reduce(operator.add, (i)))\n",
    "    return alphabet"
   ]
  },
  {
   "cell_type": "code",
   "execution_count": 7,
   "metadata": {},
   "outputs": [],
   "source": [
    "def neighbors(word, m):\n",
    "    \"\"\"\n",
    "    This gives neighbors that differ in exactly m places\n",
    "    \"\"\"\n",
    "    \n",
    "    char_list = list(['A', 'C','G','T'])\n",
    "    assert(m <= len(word))\n",
    "\n",
    "    if m == 0:\n",
    "        return [word]\n",
    "\n",
    "    r2 = neighbors(word[1:], m-1)\n",
    "    r = [c + r3 for r3 in r2 for c in char_list if c != word[0]]\n",
    "\n",
    "    if (m < len(word)):\n",
    "        r2 = neighbors(word[1:], m)\n",
    "        r += [word[0] + r3 for r3 in r2]\n",
    "\n",
    "    return r\n",
    "\n",
    "def neighbors2(pattern, m):\n",
    "    \"\"\"\n",
    "    This gives neighbors that differ in at most m places.\n",
    "    \"\"\"\n",
    "    return sum([neighbors(pattern, d2) for d2 in range(m + 1)], [])\n"
   ]
  },
  {
   "cell_type": "code",
   "execution_count": 8,
   "metadata": {},
   "outputs": [],
   "source": [
    "def all_possible_substrings_mismatch(k,m):\n",
    "    \"\"\"\n",
    "    With a k spectrum kernel, let us find all the possible combinations of chars of size k in the sequence x\n",
    "    This way, we could index them in the sequence x\n",
    "    \"\"\"\n",
    "    char_list = list(['A', 'C','G','T'])\n",
    "    alphabet_tuples = list(product(char_list,repeat=k))\n",
    "    alphabet = list()\n",
    "    for i in alphabet_tuples:\n",
    "        word = functools.reduce(operator.add, (i))\n",
    "        l= [word]+neighbors2(word,m)[1:]\n",
    "        alphabet.append(l)\n",
    "    return alphabet"
   ]
  },
  {
   "cell_type": "code",
   "execution_count": 9,
   "metadata": {},
   "outputs": [],
   "source": [
    "## TODO : a function that computes occurences \n",
    "## with overlapping option without calling regex if we have remaining time (lol)\n",
    "\n",
    "def pre_indexing_by_sequence_mismatch(x, k, m):\n",
    "    alphabet = all_possible_substrings_mismatch(k, m)\n",
    "    d = dict()\n",
    "    for letters in alphabet :\n",
    "        cnt = 0\n",
    "        for letter in letters:\n",
    "            cnt += len(re.findall(letter, x, overlapped=True))\n",
    "        d[letters[0]] = cnt\n",
    "    return d"
   ]
  },
  {
   "cell_type": "code",
   "execution_count": 10,
   "metadata": {},
   "outputs": [],
   "source": [
    "def pre_indexing_mismatch(X, alphabet):\n",
    "    \"\"\"\n",
    "    Transforms an input array into a sparse matrix encoding the number of occurences of each letter of\n",
    "    the alphabet composed of substrings of size k\n",
    "    \"\"\"\n",
    "    i = 0\n",
    "    n = X.shape[0]\n",
    "    D = np.zeros((n,len(alphabet)))\n",
    "    for x in X:\n",
    "        d = dict()\n",
    "        for letters in alphabet :\n",
    "            cnt = 0\n",
    "            for letter in letters:\n",
    "                cnt += len(re.findall(letter, x, overlapped=True))\n",
    "            d[letters[0]] = cnt\n",
    "        data = np.array(list(d.items()))\n",
    "        D[i] = data[:,1]\n",
    "        i+=1\n",
    "    D = csr_matrix(D, dtype = int)\n",
    "    return D"
   ]
  },
  {
   "cell_type": "code",
   "execution_count": 11,
   "metadata": {},
   "outputs": [
    {
     "data": {
      "text/plain": [
       "array([[11, 17, 13,  7, 19, 18, 13, 17, 13, 16, 17, 12, 11, 10, 17,  8,\n",
       "        16, 19, 19, 16, 20, 26, 21, 14, 14, 20, 19, 15, 12, 18, 19, 11,\n",
       "        15, 18, 16, 13, 14, 24, 21, 16, 19, 19, 24, 18, 12, 20, 19, 11,\n",
       "         6, 13, 10, 10, 18, 16, 14, 14, 16, 20, 20, 17,  3, 11, 17,  8],\n",
       "       [20, 19, 10, 19, 17, 15,  8, 20, 11, 16,  9, 14, 22, 18, 17, 26,\n",
       "        18, 12, 12, 19, 18, 19, 11, 15, 12,  6,  2, 13, 19, 18, 12, 25,\n",
       "        10,  9, 11, 14,  9,  9,  3, 15,  5,  2,  2, 13, 18, 16, 10, 19,\n",
       "        20, 20, 17, 31, 18, 21, 12, 27, 16, 12,  9, 23, 28, 25, 20, 34],\n",
       "       [36, 24, 26, 26, 24, 15, 10, 19, 27, 14, 16, 17, 26, 15, 14, 18,\n",
       "        25, 17, 17, 17, 18,  9,  6,  9, 10,  9,  9, 10, 18,  7, 12, 14,\n",
       "        24, 13, 15, 13, 21,  7, 12, 11, 12, 14, 14, 13, 17, 13, 12, 14,\n",
       "        28, 14, 16, 16, 14, 11, 10, 11, 16, 13, 13, 12, 17, 12, 17, 11],\n",
       "       [32, 22, 22, 22, 20, 12, 12, 16, 23, 16, 18, 17, 19, 10, 18, 18,\n",
       "        24, 14, 16, 13, 15, 13, 11,  8, 16,  7, 13,  9, 12, 11, 11, 14,\n",
       "        22, 13, 17, 17, 14, 11,  9, 13, 17,  9, 19, 20, 16, 12, 18, 16,\n",
       "        20, 11, 19, 13, 15, 10, 12, 10, 16, 16, 16, 17, 16, 14, 18, 20],\n",
       "       [23, 17, 24, 17, 12, 13, 19, 15, 23, 19, 20, 17, 16, 10, 23, 11,\n",
       "        17, 13, 17, 15, 14, 13, 12, 13, 14, 10, 16, 10, 14, 16, 16, 15,\n",
       "        21, 15, 20, 15, 21, 10, 10, 18, 17, 17, 20, 15, 13, 15, 14, 14,\n",
       "        16, 13, 18, 12, 14, 16, 10, 15, 17, 14, 17, 15, 15, 14, 11, 14]])"
      ]
     },
     "execution_count": 11,
     "metadata": {},
     "output_type": "execute_result"
    }
   ],
   "source": [
    "alphabet = all_possible_substrings_mismatch(3,1)\n",
    "pre_indexing_mismatch(Xtr0[:5],alphabet).toarray()"
   ]
  },
  {
   "cell_type": "code",
   "execution_count": 12,
   "metadata": {},
   "outputs": [],
   "source": [
    "def mismatch_spectrum_kernel(X_train, X_val, k, mode=\"train\", m=1):\n",
    "    \"\"\"\n",
    "    Computes the spectrum kernels for X_train (n_train x n_train) and X_validation (on the RKHS generated(?) by\n",
    "    X_train's samples) which is of shape n_validation x n_train\n",
    "    \"test\" mode only gives as output the testing kernel\n",
    "    \"\"\"\n",
    "    alphabet = all_possible_substrings_mismatch(k,m)\n",
    "    \n",
    "    D_train = pre_indexing_mismatch(X_train,alphabet).toarray()\n",
    "    D_val = pre_indexing_mismatch(X_val,alphabet).toarray()\n",
    "    \n",
    "    K_val = np.inner(D_val, D_train)\n",
    "    K_val = K_val.astype('float')\n",
    "    if mode == \"test\":\n",
    "        return(K_val)\n",
    "    else:\n",
    "        K_train = np.inner(D_train, D_train)\n",
    "        K_train = K_train.astype('float')\n",
    "        \n",
    "        return(K_train, K_val)\n"
   ]
  },
  {
   "cell_type": "code",
   "execution_count": 14,
   "metadata": {},
   "outputs": [
    {
     "data": {
      "text/plain": [
       "array([[16158., 14442., 15070., 15164., 15408.],\n",
       "       [15926., 13732., 15764., 15894., 15986.],\n",
       "       [15814., 15190., 15012., 14900., 15256.],\n",
       "       [14978., 16138., 15872., 15384., 15206.]])"
      ]
     },
     "execution_count": 14,
     "metadata": {},
     "output_type": "execute_result"
    }
   ],
   "source": [
    "## example \n",
    "\n",
    "mismatch_spectrum_kernel(Xtr0[:5], Xtr0[16:20], 3,mode='test',m=1)"
   ]
  },
  {
   "cell_type": "code",
   "execution_count": null,
   "metadata": {},
   "outputs": [],
   "source": []
  }
 ],
 "metadata": {
  "kernelspec": {
   "display_name": "optim",
   "language": "python",
   "name": "optim"
  },
  "language_info": {
   "codemirror_mode": {
    "name": "ipython",
    "version": 3
   },
   "file_extension": ".py",
   "mimetype": "text/x-python",
   "name": "python",
   "nbconvert_exporter": "python",
   "pygments_lexer": "ipython3",
   "version": "3.8.5"
  }
 },
 "nbformat": 4,
 "nbformat_minor": 4
}
