{
 "cells": [
  {
   "cell_type": "code",
   "execution_count": 1,
   "metadata": {},
   "outputs": [],
   "source": [
    "import numpy as np\n",
    "import pandas as pd\n",
    "import scipy.sparse as sp\n",
    "from scipy.sparse import csr_matrix\n",
    "from itertools import product, chain\n",
    "import functools \n",
    "import operator \n",
    "from csv import reader\n",
    "import regex as re\n",
    "import time\n",
    "\n",
    "from classifiers import *\n",
    "from metrics import *\n",
    "from kernels import *\n",
    "\n",
    "from sklearn.model_selection import train_test_split # lui il va partir mais pour l'instant c'est pratique"
   ]
  },
  {
   "cell_type": "markdown",
   "metadata": {},
   "source": [
    "# Load the data"
   ]
  },
  {
   "cell_type": "code",
   "execution_count": 2,
   "metadata": {},
   "outputs": [],
   "source": [
    "def features_into_array(path):\n",
    "    with open(path, 'r') as read_obj:\n",
    "        csv_reader = reader(read_obj)\n",
    "        header = next(csv_reader)\n",
    "        X = list()\n",
    "        if header != None:\n",
    "            for row in csv_reader:\n",
    "                # row variable is a list that represents a row in csv\n",
    "                X.append(np.array(row[1]))\n",
    "                \n",
    "    X = np.array(X) ## dtype might be changed in something more convenient. For now, dtype = \"<U1\"\n",
    "    return X"
   ]
  },
  {
   "cell_type": "code",
   "execution_count": 3,
   "metadata": {},
   "outputs": [],
   "source": [
    "Xtr0 = features_into_array(\"data/Xtr0.csv\")\n",
    "Ytr0 = np.genfromtxt(\"data/Ytr0.csv\", delimiter=',', skip_header=1)\n",
    "\n",
    "Xtr1 = features_into_array(\"data/Xtr1.csv\")\n",
    "Ytr1 = np.genfromtxt(\"data/Ytr1.csv\", delimiter=',', skip_header=1)\n",
    "\n",
    "Xtr2 = features_into_array(\"data/Xtr2.csv\")\n",
    "Ytr2 = np.genfromtxt(\"data/Ytr2.csv\", delimiter=',', skip_header=1)"
   ]
  },
  {
   "cell_type": "code",
   "execution_count": 4,
   "metadata": {},
   "outputs": [],
   "source": [
    "def accuracy(y_true,y_pred, mode='SVM'):\n",
    "    n = y_true.shape[0]\n",
    "    if mode == 'SVM':\n",
    "        predictions = np.ones(n)\n",
    "        predictions[y_pred < 0] = 0\n",
    "    else:\n",
    "        predictions = np.zeros(n)\n",
    "        predictions[y_pred >= 0.5] = 1\n",
    "    \n",
    "    return np.sum(y_true == predictions) / n"
   ]
  },
  {
   "cell_type": "code",
   "execution_count": 5,
   "metadata": {},
   "outputs": [
    {
     "data": {
      "text/plain": [
       "'TCCTGTGCACATCTGCACCCCTGTTGTGGCCACAAAATGATCCGGCACCACCCAGTGGGAGACGACAGAGGTGGCAATGGGGTGTCGGCTCTGACGCCTCC'"
      ]
     },
     "execution_count": 5,
     "metadata": {},
     "output_type": "execute_result"
    }
   ],
   "source": [
    "Xtr0[0]"
   ]
  },
  {
   "cell_type": "markdown",
   "metadata": {},
   "source": [
    "## Mismatch Spectrum kernel\n",
    "\n",
    "For a fixed value k (that needs to be tuned), the k-spectrum kernel is defined as : \n",
    "\n",
    "\n",
    "\\begin{align*}\n",
    "K(x,x^{\\prime}) := \\sum_{u \\in \\mathcal{A}^k} \\phi_{u}(x) \\phi_{u}(x^{\\prime})\n",
    "\\end{align*}\n",
    "\n",
    "We relax this constraint by authorizing each word of the alphabet to have up to m mismatches."
   ]
  },
  {
   "cell_type": "markdown",
   "metadata": {},
   "source": [
    "## Finding the neighbors"
   ]
  },
  {
   "cell_type": "code",
   "execution_count": 6,
   "metadata": {},
   "outputs": [],
   "source": [
    "def neighbors(word, m):\n",
    "    \"\"\"\n",
    "    This gives neighbors that differ in exactly m places\n",
    "    \"\"\"\n",
    "    \n",
    "    char_list = list(['A', 'C','G','T'])\n",
    "    assert(m <= len(word))\n",
    "\n",
    "    if m == 0:\n",
    "        return [word]\n",
    "\n",
    "    r2 = neighbors(word[1:], m-1)\n",
    "    r = [c + r3 for r3 in r2 for c in char_list if c != word[0]]\n",
    "\n",
    "    if (m < len(word)):\n",
    "        r2 = neighbors(word[1:], m)\n",
    "        r += [word[0] + r3 for r3 in r2]\n",
    "\n",
    "    return r\n",
    "\n",
    "def neighbors2(pattern, m):\n",
    "    \"\"\"\n",
    "    This gives neighbors that differ in at most m places.\n",
    "    \"\"\"\n",
    "    return sum([neighbors(pattern, d2) for d2 in range(m + 1)], [])\n"
   ]
  },
  {
   "cell_type": "markdown",
   "metadata": {},
   "source": [
    "## Creating the possible substrings"
   ]
  },
  {
   "cell_type": "code",
   "execution_count": 7,
   "metadata": {},
   "outputs": [],
   "source": [
    "def all_possible_substrings(k):\n",
    "    \"\"\"\n",
    "    With a k spectrum kernel, let us find all the possible combinations of chars of size k in the sequence x\n",
    "    This way, we could index them in the sequence x\n",
    "    \"\"\"\n",
    "    char_list = list(['A', 'C','G','T'])\n",
    "    alphabet_tuples = list(product(char_list,repeat=k))\n",
    "    alphabet = dict()\n",
    "    idx=0\n",
    "    for i in alphabet_tuples:\n",
    "        alphabet[functools.reduce(operator.add, (i))] = idx\n",
    "        idx += 1\n",
    "        #alphabet.append(functools.reduce(operator.add, (i)))\n",
    "    return alphabet"
   ]
  },
  {
   "cell_type": "code",
   "execution_count": 8,
   "metadata": {},
   "outputs": [],
   "source": [
    "def all_possible_substrings_mismatch2(k,m):\n",
    "    \"\"\"\n",
    "    With a k spectrum kernel, let us find all the possible combinations of chars of size k in the sequence x\n",
    "    This way, we could index them in the sequence x\n",
    "    \"\"\"\n",
    "    \n",
    "    alphabet = all_possible_substrings(k)\n",
    "    alphabet_mismatch = dict()\n",
    "    \n",
    "    for key, value in alphabet.items():\n",
    "        neighbors_key = neighbors2(key, m)\n",
    "        # eah key in the dictionary receives as value a list of its own\n",
    "        # and its neighbors indexes on the matrix D.\n",
    "        alphabet_mismatch[key] = [alphabet[neigh] for neigh in neighbors_key]\n",
    "    \n",
    "    \n",
    "    \"\"\"\n",
    "    char_list = list(['A', 'C','G','T'])\n",
    "    alphabet_tuples = list(product(char_list,repeat=k))\n",
    "    alphabet = list()\n",
    "    for i in alphabet_tuples:\n",
    "        word = functools.reduce(operator.add, (i))\n",
    "        l= [word]+neighbors2(word,m)[1:]\n",
    "        alphabet.append(l)\n",
    "        \"\"\"\n",
    "    \n",
    "    return alphabet_mismatch"
   ]
  },
  {
   "cell_type": "code",
   "execution_count": 9,
   "metadata": {},
   "outputs": [],
   "source": [
    "def pre_indexing_mismatch2(X, k, m, alphabet=None):\n",
    "    \"\"\"\n",
    "    Transforms an input array into a sparse matrix encoding the number of occurences of each letter of\n",
    "    the alphabet composed of substrings of size k\n",
    "    \"\"\"\n",
    "    n = X.shape[0]\n",
    "    \n",
    "    if alphabet is None:\n",
    "        alphabet = all_possible_substrings_mismatch2(k,m)\n",
    "    \n",
    "    D = np.zeros((n,len(alphabet)))\n",
    "    \n",
    "    for i in range(X.shape[0]):\n",
    "        idx=0\n",
    "        while idx + k < len(X[i]):\n",
    "            D[i, alphabet[X[i][idx:idx+k]]] += 1\n",
    "            idx += 1\n",
    "    D = csr_matrix(D, dtype = int)\n",
    "    return D"
   ]
  },
  {
   "cell_type": "code",
   "execution_count": 10,
   "metadata": {},
   "outputs": [],
   "source": [
    "def mismatch_spectrum_kernel2(X_train, X_val, X_test, k, m=1, alphabet =None):\n",
    "    \"\"\"\n",
    "    Computes the spectrum kernels for X_train (n_train x n_train) and X_validation (on the RKHS generated(?) by\n",
    "    X_train's samples) which is of shape n_validation x n_train\n",
    "    \"test\" mode only gives as output the testing kernel\n",
    "    \"\"\"\n",
    "    if alphabet is None:\n",
    "        alphabet = all_possible_substrings_mismatch(k,m)\n",
    "    \n",
    "    D_train = pre_indexing_mismatch2(X_train, k, m, alphabet)\n",
    "    D_val = pre_indexing_mismatch2(X_val, k, m, alphabet)\n",
    "    D_test = pre_indexing_mismatch2(X_test, k, m, alphabet)\n",
    "    \n",
    "    K_train = D_train.dot(D_train.transpose())\n",
    "    K_train = K_train.toarray().astype('float')\n",
    "    \n",
    "    K_val = D_val.dot(D_train.transpose())\n",
    "    K_val = K_val.toarray().astype('float')\n",
    "    \n",
    "    K_test = D_test.dot(D_train.transpose())\n",
    "    K_test = K_test.toarray().astype('float')\n",
    "    \n",
    "        \n",
    "    return(K_train, K_val, K_test)"
   ]
  },
  {
   "cell_type": "markdown",
   "metadata": {},
   "source": [
    "# Application on data"
   ]
  },
  {
   "cell_type": "markdown",
   "metadata": {},
   "source": [
    "## Split the data"
   ]
  },
  {
   "cell_type": "code",
   "execution_count": 19,
   "metadata": {},
   "outputs": [],
   "source": [
    "Xtr_0, Xval_0, ytr0, yval0 = train_test_split(Xtr0, Ytr0, test_size=0.2, random_state=42)\n",
    "Xtr_1, Xval_1, ytr1, yval1 = train_test_split(Xtr1, Ytr1, test_size=0.2, random_state=42)\n",
    "Xtr_2, Xval_2, ytr2, yval2 = train_test_split(Xtr2, Ytr2, test_size=0.2, random_state=42)\n",
    "\n",
    "Xte0 = features_into_array(\"data/Xte0.csv\")\n",
    "Xte1 = features_into_array(\"data/Xte1.csv\")\n",
    "Xte2 = features_into_array(\"data/Xte2.csv\")"
   ]
  },
  {
   "cell_type": "markdown",
   "metadata": {},
   "source": [
    "# Testing the accuracy on sequences"
   ]
  },
  {
   "cell_type": "code",
   "execution_count": 22,
   "metadata": {},
   "outputs": [],
   "source": [
    "from sklearn.model_selection import GridSearchCV"
   ]
  },
  {
   "cell_type": "code",
   "execution_count": 36,
   "metadata": {
    "scrolled": false
   },
   "outputs": [
    {
     "name": "stdout",
     "output_type": "stream",
     "text": [
      "***************treating k = 5***************\n",
      "...............treating m = 1...............\n",
      "--- Found alphabet in 0.08539795875549316 seconds ---\n",
      "--- Computed all the kernels in 45.866326093673706 seconds ---\n",
      "\n",
      "\n",
      "\n",
      "***************treating k = 6***************\n",
      "...............treating m = 1...............\n",
      "--- Found alphabet in 0.17705869674682617 seconds ---\n",
      "--- Computed all the kernels in 46.19955921173096 seconds ---\n",
      "\n",
      "\n",
      "\n",
      "***************treating k = 7***************\n",
      "...............treating m = 1...............\n",
      "--- Found alphabet in 0.7163012027740479 seconds ---\n",
      "--- Computed all the kernels in 36.516748905181885 seconds ---\n",
      "\n",
      "\n",
      "\n",
      "***************treating k = 8***************\n",
      "...............treating m = 1...............\n",
      "--- Found alphabet in 3.165091037750244 seconds ---\n",
      "--- Computed all the kernels in 45.151968002319336 seconds ---\n",
      "\n",
      "\n",
      "\n",
      "***************treating k = 9***************\n",
      "...............treating m = 1...............\n",
      "--- Found alphabet in 14.69835901260376 seconds ---\n",
      "--- Computed all the kernels in 79.02254295349121 seconds ---\n",
      "\n",
      "\n",
      "\n"
     ]
    }
   ],
   "source": [
    "Kernels_tr_0 = []\n",
    "Kernels_val_0 = []\n",
    "Kernels_te_0 = []\n",
    "\n",
    "Kernels_tr_1 = []\n",
    "Kernels_val_1 = []\n",
    "Kernels_te_1 = []\n",
    "\n",
    "Kernels_tr_2 = []\n",
    "Kernels_val_2 = []\n",
    "Kernels_te_2 = []\n",
    "m = 1\n",
    "\n",
    "\n",
    "for k in range(5,10):\n",
    "    print(\"*\"*15 + \"treating k = \" + str(k) + 15*\"*\")\n",
    "    print(\".\"*15 + \"treating m = \" + str(1) + 15*\".\")\n",
    "    start_time = time.time()\n",
    "    alphabet_km = all_possible_substrings_mismatch2(k,m)\n",
    "    print(\"--- Found alphabet in %s seconds ---\" % (time.time() - start_time))\n",
    "    start_time = time.time()\n",
    "    K_tr0, K_val0, K_te0 = mismatch_spectrum_kernel2(Xtr0_, Xval0_, Xte0, k=k, m=m, alphabet=alphabet_km)\n",
    "    Kernels_tr_0 += [K_tr0]\n",
    "    Kernels_val_0 += [K_val0]\n",
    "    Kernels_te_0 += [K_te0]\n",
    "\n",
    "    K_tr1, K_val1, K_te1 = mismatch_spectrum_kernel2(Xtr1_, Xval1_, Xte1, k=k, m=m, alphabet=alphabet_km)\n",
    "    Kernels_tr_1 += [K_tr1]\n",
    "    Kernels_val_1 += [K_val1]\n",
    "    Kernels_te_1 += [K_te1]\n",
    "\n",
    "    K_tr2, K_val2, K_te2 = mismatch_spectrum_kernel2(Xtr2_, Xval2_, Xte2, k=k, m=m, alphabet=alphabet_km)\n",
    "    Kernels_tr_2 += [K_tr2]\n",
    "    Kernels_val_2 += [K_val2]\n",
    "    Kernels_te_2 += [K_te2]\n",
    "\n",
    "    print(\"--- Computed all the kernels in %s seconds ---\" % (time.time() - start_time))\n",
    "    print(\"\")\n",
    "    print(\"\")\n",
    "    print(\"\")\n"
   ]
  },
  {
   "cell_type": "code",
   "execution_count": 38,
   "metadata": {
    "scrolled": false
   },
   "outputs": [
    {
     "name": "stdout",
     "output_type": "stream",
     "text": [
      "***************treating k = 5 and m = 1***************\n",
      "\n",
      "--------------- treating dataset 0 ---------------\n",
      "Fitting 5 folds for each of 27 candidates, totalling 135 fits\n",
      "SVC(C=0.0004, kernel='precomputed')\n",
      "training score for k = 5  0.71875\n",
      "validation score for k = 5  0.62\n",
      "\n",
      "--------------- treating dataset 1 ---------------\n",
      "Fitting 5 folds for each of 27 candidates, totalling 135 fits\n",
      "SVC(C=0.00030000000000000003, kernel='precomputed')\n",
      "training score for k = 5  0.73\n",
      "validation score for k = 5  0.6075\n",
      "\n",
      "--------------- treating dataset 2 ---------------\n",
      "Fitting 5 folds for each of 27 candidates, totalling 135 fits\n",
      "SVC(C=0.0002, kernel='precomputed')\n",
      "training score for k = 5  0.779375\n",
      "validation score for k = 5  0.7275\n",
      "\n",
      "\n",
      "***************treating k = 6 and m = 1***************\n",
      "\n",
      "--------------- treating dataset 0 ---------------\n",
      "Fitting 5 folds for each of 27 candidates, totalling 135 fits\n",
      "SVC(C=0.0002, kernel='precomputed')\n",
      "training score for k = 6  0.7625\n",
      "validation score for k = 6  0.67\n",
      "\n",
      "--------------- treating dataset 1 ---------------\n",
      "Fitting 5 folds for each of 27 candidates, totalling 135 fits\n",
      "SVC(C=0.0004, kernel='precomputed')\n",
      "training score for k = 6  0.833125\n",
      "validation score for k = 6  0.655\n",
      "\n",
      "--------------- treating dataset 2 ---------------\n",
      "Fitting 5 folds for each of 27 candidates, totalling 135 fits\n",
      "SVC(C=0.0005, kernel='precomputed')\n",
      "training score for k = 6  0.8925\n",
      "validation score for k = 6  0.7225\n",
      "\n",
      "\n",
      "***************treating k = 7 and m = 1***************\n",
      "\n",
      "--------------- treating dataset 0 ---------------\n",
      "Fitting 5 folds for each of 27 candidates, totalling 135 fits\n",
      "SVC(C=0.0001, kernel='precomputed')\n",
      "training score for k = 7  0.755\n",
      "validation score for k = 7  0.65\n",
      "\n",
      "--------------- treating dataset 1 ---------------\n",
      "Fitting 5 folds for each of 27 candidates, totalling 135 fits\n",
      "SVC(C=0.0002, kernel='precomputed')\n",
      "training score for k = 7  0.865\n",
      "validation score for k = 7  0.6725\n",
      "\n",
      "--------------- treating dataset 2 ---------------\n",
      "Fitting 5 folds for each of 27 candidates, totalling 135 fits\n",
      "SVC(C=0.0005, kernel='precomputed')\n",
      "training score for k = 7  0.954375\n",
      "validation score for k = 7  0.7575\n",
      "\n",
      "\n",
      "***************treating k = 8 and m = 1***************\n",
      "\n",
      "--------------- treating dataset 0 ---------------\n",
      "Fitting 5 folds for each of 27 candidates, totalling 135 fits\n",
      "SVC(C=0.0004, kernel='precomputed')\n",
      "training score for k = 8  0.9775\n",
      "validation score for k = 8  0.67\n",
      "\n",
      "--------------- treating dataset 1 ---------------\n",
      "Fitting 5 folds for each of 27 candidates, totalling 135 fits\n",
      "SVC(C=0.0005, kernel='precomputed')\n",
      "training score for k = 8  0.995\n",
      "validation score for k = 8  0.6725\n",
      "\n",
      "--------------- treating dataset 2 ---------------\n",
      "Fitting 5 folds for each of 27 candidates, totalling 135 fits\n",
      "SVC(C=0.0004, kernel='precomputed')\n",
      "training score for k = 8  0.98125\n",
      "validation score for k = 8  0.7425\n",
      "\n",
      "\n",
      "***************treating k = 9 and m = 1***************\n",
      "\n",
      "--------------- treating dataset 0 ---------------\n",
      "Fitting 5 folds for each of 27 candidates, totalling 135 fits\n",
      "SVC(C=0.00030000000000000003, kernel='precomputed')\n",
      "training score for k = 9  0.983125\n",
      "validation score for k = 9  0.6675\n",
      "\n",
      "--------------- treating dataset 1 ---------------\n",
      "Fitting 5 folds for each of 27 candidates, totalling 135 fits\n",
      "SVC(C=0.0004, kernel='precomputed')\n",
      "training score for k = 9  0.99875\n",
      "validation score for k = 9  0.66\n",
      "\n",
      "--------------- treating dataset 2 ---------------\n",
      "Fitting 5 folds for each of 27 candidates, totalling 135 fits\n",
      "SVC(C=0.0004, kernel='precomputed')\n",
      "training score for k = 9  0.99625\n",
      "validation score for k = 9  0.765\n",
      "\n",
      "\n"
     ]
    }
   ],
   "source": [
    "from sklearn import svm\n",
    "from sklearn.model_selection import GridSearchCV\n",
    "\n",
    "values_C = [j*10**i for i in range(-5,-2) for j in range(1,10)]\n",
    "parameters = {'C': values_C}\n",
    "svm__ = svm.SVC(kernel='precomputed')\n",
    "gs_k = GridSearchCV(svm__, param_grid=parameters, refit=True, verbose=1)\n",
    "\n",
    "for k in range(len(Kernels_tr_0)):\n",
    "    \n",
    "        \n",
    "    print(\"*\"*15 + \"treating k = \" + str(k+5) + \" and m = 1\" + 15*\"*\")\n",
    "    print(\"\")\n",
    "    print(\"-\"*15 + \" treating dataset 0 \"+ 15*\"-\")\n",
    "    \n",
    "    gs_k.fit(Kernels_tr_0[k], ytr0[:,1])\n",
    "    print(gs_k.best_estimator_)\n",
    "    print(f\"training score for k = {k+5} \", gs_k.score(Kernels_tr_0[k], ytr0[:,1]))\n",
    "    print(f\"validation score for k = {k+5} \", gs_k.score(Kernels_val_0[k], yval0[:,1]))\n",
    "    \n",
    "    print(\"\")\n",
    "    print(\"-\"*15 + \" treating dataset 1 \"+ 15*\"-\")\n",
    "    \n",
    "    gs_k.fit(Kernels_tr_1[k], ytr1[:,1])\n",
    "    print(gs_k.best_estimator_)\n",
    "    print(f\"training score for k = {k+5} \", gs_k.score(Kernels_tr_1[k], ytr1[:,1]))\n",
    "    print(f\"validation score for k = {k+5} \", gs_k.score(Kernels_val_1[k], yval1[:,1]))\n",
    "    \n",
    "    print(\"\")\n",
    "    print(\"-\"*15 + \" treating dataset 2 \"+ 15*\"-\")\n",
    "    \n",
    "    gs_k.fit(Kernels_tr_2[k], ytr2[:,1])\n",
    "    print(gs_k.best_estimator_)\n",
    "    print(f\"training score for k = {k+5} \", gs_k.score(Kernels_tr_2[k], ytr2[:,1]))\n",
    "    print(f\"validation score for k = {k+5} \", gs_k.score(Kernels_val_2[k], yval2[:,1]))\n",
    "    \n",
    "    print(\"\")\n",
    "    print(\"\")"
   ]
  },
  {
   "cell_type": "markdown",
   "metadata": {},
   "source": [
    "# Predictions"
   ]
  },
  {
   "cell_type": "code",
   "execution_count": null,
   "metadata": {},
   "outputs": [],
   "source": [
    "test_kernels = [K_te0, K_te1, K_te2]\n",
    "#test_alphas = [alphas_tr0[-4], alphas_tr1[-4], alphas_tr2[-3]] # il faut choisir l'alpha associé à un bon lambda!\n",
    "test_alphas = [alphas_tr0[9], alphas_tr1[4], alphas_tr2[8]]\n",
    "write_predictions_csv(test_kernels, test_alphas, path =\"data/mismatch_Ytest_sequences.csv\", mode=\"SVM\")"
   ]
  },
  {
   "cell_type": "code",
   "execution_count": 31,
   "metadata": {},
   "outputs": [
    {
     "data": {
      "text/plain": [
       "10"
      ]
     },
     "execution_count": 31,
     "metadata": {},
     "output_type": "execute_result"
    }
   ],
   "source": [
    "len(Kernels_tr_2)"
   ]
  },
  {
   "cell_type": "code",
   "execution_count": null,
   "metadata": {},
   "outputs": [],
   "source": []
  }
 ],
 "metadata": {
  "kernelspec": {
   "display_name": "Python 3",
   "language": "python",
   "name": "python3"
  },
  "language_info": {
   "codemirror_mode": {
    "name": "ipython",
    "version": 3
   },
   "file_extension": ".py",
   "mimetype": "text/x-python",
   "name": "python",
   "nbconvert_exporter": "python",
   "pygments_lexer": "ipython3",
   "version": "3.7.1"
  }
 },
 "nbformat": 4,
 "nbformat_minor": 4
}
