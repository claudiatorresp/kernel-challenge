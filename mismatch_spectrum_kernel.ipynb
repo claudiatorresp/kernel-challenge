{
 "cells": [
  {
   "cell_type": "code",
   "execution_count": 86,
   "metadata": {},
   "outputs": [],
   "source": [
    "import numpy as np\n",
    "import pandas as pd\n",
    "import scipy.sparse as sp\n",
    "from scipy.sparse import csr_matrix\n",
    "from itertools import product, chain\n",
    "import functools \n",
    "import operator \n",
    "from csv import reader\n",
    "import regex as re"
   ]
  },
  {
   "cell_type": "markdown",
   "metadata": {},
   "source": [
    "# Load the data"
   ]
  },
  {
   "cell_type": "code",
   "execution_count": 61,
   "metadata": {},
   "outputs": [],
   "source": [
    "def features_into_array(path):\n",
    "    with open(path, 'r') as read_obj:\n",
    "        csv_reader = reader(read_obj)\n",
    "        header = next(csv_reader)\n",
    "        X = list()\n",
    "        if header != None:\n",
    "            for row in csv_reader:\n",
    "                # row variable is a list that represents a row in csv\n",
    "                X.append(np.array(row[1]))\n",
    "                \n",
    "    X = np.array(X) ## dtype might be changed in something more convenient. For now, dtype = \"<U1\"\n",
    "    return X"
   ]
  },
  {
   "cell_type": "code",
   "execution_count": 62,
   "metadata": {},
   "outputs": [],
   "source": [
    "Xtr0 = features_into_array(\"data/Xtr0.csv\")\n",
    "Ytr0 = np.genfromtxt(\"data/Ytr0.csv\", delimiter=',', skip_header=1)\n",
    "\n",
    "Xtr1 = features_into_array(\"data/Xtr1.csv\")\n",
    "Ytr1 = np.genfromtxt(\"data/Ytr1.csv\", delimiter=',', skip_header=1)\n",
    "\n",
    "Xtr2 = features_into_array(\"data/Xtr2.csv\")\n",
    "Ytr2 = np.genfromtxt(\"data/Ytr2.csv\", delimiter=',', skip_header=1)"
   ]
  },
  {
   "cell_type": "code",
   "execution_count": 142,
   "metadata": {},
   "outputs": [],
   "source": [
    "def accuracy(y_true,y_pred, mode='SVM'):\n",
    "    n = y_true.shape[0]\n",
    "    if mode == 'SVM':\n",
    "        predictions = np.ones(n)\n",
    "        predictions[y_pred < 0] = 0\n",
    "    else:\n",
    "        predictions = np.zeros(n)\n",
    "        predictions[y_pred >= 0.5] = 1\n",
    "    \n",
    "    return np.sum(y_true == predictions) / n"
   ]
  },
  {
   "cell_type": "code",
   "execution_count": 62,
   "metadata": {},
   "outputs": [
    {
     "data": {
      "text/plain": [
       "'TCCTGTGCACATCTGCACCCCTGTTGTGGCCACAAAATGATCCGGCACCACCCAGTGGGAGACGACAGAGGTGGCAATGGGGTGTCGGCTCTGACGCCTCC'"
      ]
     },
     "execution_count": 62,
     "metadata": {},
     "output_type": "execute_result"
    }
   ],
   "source": [
    "Xtr0[0]"
   ]
  },
  {
   "cell_type": "markdown",
   "metadata": {},
   "source": [
    "## Spectrum kernel\n",
    "\n",
    "For a fixed value k (that needs to be tuned), the k-spectrum kernel is defined as : \n",
    "\n",
    "\n",
    "\\begin{align*}\n",
    "K(x,x^{\\prime}) := \\sum_{u \\in \\mathcal{A}^k} \\phi_{u}(x) \\phi_{u}(x^{\\prime})\n",
    "\\end{align*}"
   ]
  },
  {
   "cell_type": "code",
   "execution_count": 38,
   "metadata": {},
   "outputs": [],
   "source": [
    "def all_possible_substrings(k):\n",
    "    \"\"\"\n",
    "    With a k spectrum kernel, let us find all the possible combinations of chars of size k in the sequence x\n",
    "    This way, we could index them in the sequence x\n",
    "    \"\"\"\n",
    "    char_list = list(['A', 'C','G','T'])\n",
    "    alphabet_tuples = list(product(char_list,repeat=k))\n",
    "    alphabet = list()\n",
    "    for i in alphabet_tuples:\n",
    "        alphabet.append(functools.reduce(operator.add, (i)))\n",
    "    return alphabet"
   ]
  },
  {
   "cell_type": "code",
   "execution_count": 18,
   "metadata": {},
   "outputs": [],
   "source": [
    "def neighbors(word, m):\n",
    "    \"\"\"\n",
    "    This gives neighbors that differ in exactly m places\n",
    "    \"\"\"\n",
    "    \n",
    "    char_list = list(['A', 'C','G','T'])\n",
    "    assert(m <= len(word))\n",
    "\n",
    "    if m == 0:\n",
    "        return [word]\n",
    "\n",
    "    r2 = neighbors(word[1:], m-1)\n",
    "    r = [c + r3 for r3 in r2 for c in char_list if c != word[0]]\n",
    "\n",
    "    if (m < len(word)):\n",
    "        r2 = neighbors(word[1:], m)\n",
    "        r += [word[0] + r3 for r3 in r2]\n",
    "\n",
    "    return r\n",
    "\n",
    "def neighbors2(pattern, m):\n",
    "    \"\"\"\n",
    "    This gives neighbors that differ in at most m places.\n",
    "    \"\"\"\n",
    "    return sum([neighbors(pattern, d2) for d2 in range(m + 1)], [])\n"
   ]
  },
  {
   "cell_type": "code",
   "execution_count": 57,
   "metadata": {},
   "outputs": [
    {
     "name": "stdout",
     "output_type": "stream",
     "text": [
      "['AAA', 'CAA', 'GAA', 'TAA', 'ACA', 'AGA', 'ATA', 'AAC', 'AAG', 'AAT']\n",
      "['AAC', 'CAC', 'GAC', 'TAC', 'ACC', 'AGC', 'ATC', 'AAA', 'AAG', 'AAT']\n",
      "['AAG', 'CAG', 'GAG', 'TAG', 'ACG', 'AGG', 'ATG', 'AAA', 'AAC', 'AAT']\n",
      "['AAT', 'CAT', 'GAT', 'TAT', 'ACT', 'AGT', 'ATT', 'AAA', 'AAC', 'AAG']\n",
      "['ACA', 'CCA', 'GCA', 'TCA', 'AAA', 'AGA', 'ATA', 'ACC', 'ACG', 'ACT']\n",
      "['ACC', 'CCC', 'GCC', 'TCC', 'AAC', 'AGC', 'ATC', 'ACA', 'ACG', 'ACT']\n",
      "['ACG', 'CCG', 'GCG', 'TCG', 'AAG', 'AGG', 'ATG', 'ACA', 'ACC', 'ACT']\n",
      "['ACT', 'CCT', 'GCT', 'TCT', 'AAT', 'AGT', 'ATT', 'ACA', 'ACC', 'ACG']\n",
      "['AGA', 'CGA', 'GGA', 'TGA', 'AAA', 'ACA', 'ATA', 'AGC', 'AGG', 'AGT']\n",
      "['AGC', 'CGC', 'GGC', 'TGC', 'AAC', 'ACC', 'ATC', 'AGA', 'AGG', 'AGT']\n",
      "['AGG', 'CGG', 'GGG', 'TGG', 'AAG', 'ACG', 'ATG', 'AGA', 'AGC', 'AGT']\n",
      "['AGT', 'CGT', 'GGT', 'TGT', 'AAT', 'ACT', 'ATT', 'AGA', 'AGC', 'AGG']\n",
      "['ATA', 'CTA', 'GTA', 'TTA', 'AAA', 'ACA', 'AGA', 'ATC', 'ATG', 'ATT']\n",
      "['ATC', 'CTC', 'GTC', 'TTC', 'AAC', 'ACC', 'AGC', 'ATA', 'ATG', 'ATT']\n",
      "['ATG', 'CTG', 'GTG', 'TTG', 'AAG', 'ACG', 'AGG', 'ATA', 'ATC', 'ATT']\n",
      "['ATT', 'CTT', 'GTT', 'TTT', 'AAT', 'ACT', 'AGT', 'ATA', 'ATC', 'ATG']\n",
      "['CAA', 'AAA', 'GAA', 'TAA', 'CCA', 'CGA', 'CTA', 'CAC', 'CAG', 'CAT']\n",
      "['CAC', 'AAC', 'GAC', 'TAC', 'CCC', 'CGC', 'CTC', 'CAA', 'CAG', 'CAT']\n",
      "['CAG', 'AAG', 'GAG', 'TAG', 'CCG', 'CGG', 'CTG', 'CAA', 'CAC', 'CAT']\n",
      "['CAT', 'AAT', 'GAT', 'TAT', 'CCT', 'CGT', 'CTT', 'CAA', 'CAC', 'CAG']\n",
      "['CCA', 'ACA', 'GCA', 'TCA', 'CAA', 'CGA', 'CTA', 'CCC', 'CCG', 'CCT']\n",
      "['CCC', 'ACC', 'GCC', 'TCC', 'CAC', 'CGC', 'CTC', 'CCA', 'CCG', 'CCT']\n",
      "['CCG', 'ACG', 'GCG', 'TCG', 'CAG', 'CGG', 'CTG', 'CCA', 'CCC', 'CCT']\n",
      "['CCT', 'ACT', 'GCT', 'TCT', 'CAT', 'CGT', 'CTT', 'CCA', 'CCC', 'CCG']\n",
      "['CGA', 'AGA', 'GGA', 'TGA', 'CAA', 'CCA', 'CTA', 'CGC', 'CGG', 'CGT']\n",
      "['CGC', 'AGC', 'GGC', 'TGC', 'CAC', 'CCC', 'CTC', 'CGA', 'CGG', 'CGT']\n",
      "['CGG', 'AGG', 'GGG', 'TGG', 'CAG', 'CCG', 'CTG', 'CGA', 'CGC', 'CGT']\n",
      "['CGT', 'AGT', 'GGT', 'TGT', 'CAT', 'CCT', 'CTT', 'CGA', 'CGC', 'CGG']\n",
      "['CTA', 'ATA', 'GTA', 'TTA', 'CAA', 'CCA', 'CGA', 'CTC', 'CTG', 'CTT']\n",
      "['CTC', 'ATC', 'GTC', 'TTC', 'CAC', 'CCC', 'CGC', 'CTA', 'CTG', 'CTT']\n",
      "['CTG', 'ATG', 'GTG', 'TTG', 'CAG', 'CCG', 'CGG', 'CTA', 'CTC', 'CTT']\n",
      "['CTT', 'ATT', 'GTT', 'TTT', 'CAT', 'CCT', 'CGT', 'CTA', 'CTC', 'CTG']\n",
      "['GAA', 'AAA', 'CAA', 'TAA', 'GCA', 'GGA', 'GTA', 'GAC', 'GAG', 'GAT']\n",
      "['GAC', 'AAC', 'CAC', 'TAC', 'GCC', 'GGC', 'GTC', 'GAA', 'GAG', 'GAT']\n",
      "['GAG', 'AAG', 'CAG', 'TAG', 'GCG', 'GGG', 'GTG', 'GAA', 'GAC', 'GAT']\n",
      "['GAT', 'AAT', 'CAT', 'TAT', 'GCT', 'GGT', 'GTT', 'GAA', 'GAC', 'GAG']\n",
      "['GCA', 'ACA', 'CCA', 'TCA', 'GAA', 'GGA', 'GTA', 'GCC', 'GCG', 'GCT']\n",
      "['GCC', 'ACC', 'CCC', 'TCC', 'GAC', 'GGC', 'GTC', 'GCA', 'GCG', 'GCT']\n",
      "['GCG', 'ACG', 'CCG', 'TCG', 'GAG', 'GGG', 'GTG', 'GCA', 'GCC', 'GCT']\n",
      "['GCT', 'ACT', 'CCT', 'TCT', 'GAT', 'GGT', 'GTT', 'GCA', 'GCC', 'GCG']\n",
      "['GGA', 'AGA', 'CGA', 'TGA', 'GAA', 'GCA', 'GTA', 'GGC', 'GGG', 'GGT']\n",
      "['GGC', 'AGC', 'CGC', 'TGC', 'GAC', 'GCC', 'GTC', 'GGA', 'GGG', 'GGT']\n",
      "['GGG', 'AGG', 'CGG', 'TGG', 'GAG', 'GCG', 'GTG', 'GGA', 'GGC', 'GGT']\n",
      "['GGT', 'AGT', 'CGT', 'TGT', 'GAT', 'GCT', 'GTT', 'GGA', 'GGC', 'GGG']\n",
      "['GTA', 'ATA', 'CTA', 'TTA', 'GAA', 'GCA', 'GGA', 'GTC', 'GTG', 'GTT']\n",
      "['GTC', 'ATC', 'CTC', 'TTC', 'GAC', 'GCC', 'GGC', 'GTA', 'GTG', 'GTT']\n",
      "['GTG', 'ATG', 'CTG', 'TTG', 'GAG', 'GCG', 'GGG', 'GTA', 'GTC', 'GTT']\n",
      "['GTT', 'ATT', 'CTT', 'TTT', 'GAT', 'GCT', 'GGT', 'GTA', 'GTC', 'GTG']\n",
      "['TAA', 'AAA', 'CAA', 'GAA', 'TCA', 'TGA', 'TTA', 'TAC', 'TAG', 'TAT']\n",
      "['TAC', 'AAC', 'CAC', 'GAC', 'TCC', 'TGC', 'TTC', 'TAA', 'TAG', 'TAT']\n",
      "['TAG', 'AAG', 'CAG', 'GAG', 'TCG', 'TGG', 'TTG', 'TAA', 'TAC', 'TAT']\n",
      "['TAT', 'AAT', 'CAT', 'GAT', 'TCT', 'TGT', 'TTT', 'TAA', 'TAC', 'TAG']\n",
      "['TCA', 'ACA', 'CCA', 'GCA', 'TAA', 'TGA', 'TTA', 'TCC', 'TCG', 'TCT']\n",
      "['TCC', 'ACC', 'CCC', 'GCC', 'TAC', 'TGC', 'TTC', 'TCA', 'TCG', 'TCT']\n",
      "['TCG', 'ACG', 'CCG', 'GCG', 'TAG', 'TGG', 'TTG', 'TCA', 'TCC', 'TCT']\n",
      "['TCT', 'ACT', 'CCT', 'GCT', 'TAT', 'TGT', 'TTT', 'TCA', 'TCC', 'TCG']\n",
      "['TGA', 'AGA', 'CGA', 'GGA', 'TAA', 'TCA', 'TTA', 'TGC', 'TGG', 'TGT']\n",
      "['TGC', 'AGC', 'CGC', 'GGC', 'TAC', 'TCC', 'TTC', 'TGA', 'TGG', 'TGT']\n",
      "['TGG', 'AGG', 'CGG', 'GGG', 'TAG', 'TCG', 'TTG', 'TGA', 'TGC', 'TGT']\n",
      "['TGT', 'AGT', 'CGT', 'GGT', 'TAT', 'TCT', 'TTT', 'TGA', 'TGC', 'TGG']\n",
      "['TTA', 'ATA', 'CTA', 'GTA', 'TAA', 'TCA', 'TGA', 'TTC', 'TTG', 'TTT']\n",
      "['TTC', 'ATC', 'CTC', 'GTC', 'TAC', 'TCC', 'TGC', 'TTA', 'TTG', 'TTT']\n",
      "['TTG', 'ATG', 'CTG', 'GTG', 'TAG', 'TCG', 'TGG', 'TTA', 'TTC', 'TTT']\n",
      "['TTT', 'ATT', 'CTT', 'GTT', 'TAT', 'TCT', 'TGT', 'TTA', 'TTC', 'TTG']\n"
     ]
    },
    {
     "data": {
      "text/plain": [
       "[]"
      ]
     },
     "execution_count": 57,
     "metadata": {},
     "output_type": "execute_result"
    }
   ],
   "source": [
    "all_possible_substrings_mismatch(3,1)"
   ]
  },
  {
   "cell_type": "code",
   "execution_count": 77,
   "metadata": {},
   "outputs": [],
   "source": [
    "def all_possible_substrings_mismatch(k,m):\n",
    "    \"\"\"\n",
    "    With a k spectrum kernel, let us find all the possible combinations of chars of size k in the sequence x\n",
    "    This way, we could index them in the sequence x\n",
    "    \"\"\"\n",
    "    char_list = list(['A', 'C','G','T'])\n",
    "    alphabet_tuples = list(product(char_list,repeat=k))\n",
    "    alphabet = list()\n",
    "    for i in alphabet_tuples:\n",
    "        word = functools.reduce(operator.add, (i))\n",
    "        l= [word]+neighbors2(word,m)[1:]\n",
    "        alphabet.append(l)\n",
    "    return alphabet"
   ]
  },
  {
   "cell_type": "code",
   "execution_count": 83,
   "metadata": {},
   "outputs": [],
   "source": [
    "## TODO : a function that computes occurences \n",
    "## with overlapping option without calling regex if we have remaining time (lol)\n",
    "\n",
    "def pre_indexing_by_sequence_mismatch(x, k, m):\n",
    "    alphabet = all_possible_substrings_mismatch(k, m)\n",
    "    d = dict()\n",
    "    for letters in alphabet :\n",
    "        cnt = 0\n",
    "        for letter in letters:\n",
    "            cnt += len(re.findall(letter, x, overlapped=True))\n",
    "        d[letters[0]] = cnt\n",
    "    return d"
   ]
  },
  {
   "cell_type": "code",
   "execution_count": 82,
   "metadata": {},
   "outputs": [
    {
     "data": {
      "text/plain": [
       "'TCCTGTGCACATCTGCACCCCTGTTGTGGCCACAAAATGATCCGGCACCACCCAGTGGGAGACGACAGAGGTGGCAATGGGGTGTCGGCTCTGACGCCTCC'"
      ]
     },
     "execution_count": 82,
     "metadata": {},
     "output_type": "execute_result"
    }
   ],
   "source": [
    "Xtr0[0]"
   ]
  },
  {
   "cell_type": "code",
   "execution_count": 84,
   "metadata": {},
   "outputs": [
    {
     "data": {
      "text/plain": [
       "{'AAA': 11,\n",
       " 'AAC': 17,\n",
       " 'AAG': 13,\n",
       " 'AAT': 7,\n",
       " 'ACA': 19,\n",
       " 'ACC': 18,\n",
       " 'ACG': 13,\n",
       " 'ACT': 17,\n",
       " 'AGA': 13,\n",
       " 'AGC': 16,\n",
       " 'AGG': 17,\n",
       " 'AGT': 12,\n",
       " 'ATA': 11,\n",
       " 'ATC': 10,\n",
       " 'ATG': 17,\n",
       " 'ATT': 8,\n",
       " 'CAA': 16,\n",
       " 'CAC': 19,\n",
       " 'CAG': 19,\n",
       " 'CAT': 16,\n",
       " 'CCA': 20,\n",
       " 'CCC': 26,\n",
       " 'CCG': 21,\n",
       " 'CCT': 14,\n",
       " 'CGA': 14,\n",
       " 'CGC': 20,\n",
       " 'CGG': 19,\n",
       " 'CGT': 15,\n",
       " 'CTA': 12,\n",
       " 'CTC': 18,\n",
       " 'CTG': 19,\n",
       " 'CTT': 11,\n",
       " 'GAA': 15,\n",
       " 'GAC': 18,\n",
       " 'GAG': 16,\n",
       " 'GAT': 13,\n",
       " 'GCA': 14,\n",
       " 'GCC': 24,\n",
       " 'GCG': 21,\n",
       " 'GCT': 16,\n",
       " 'GGA': 19,\n",
       " 'GGC': 19,\n",
       " 'GGG': 24,\n",
       " 'GGT': 18,\n",
       " 'GTA': 12,\n",
       " 'GTC': 20,\n",
       " 'GTG': 19,\n",
       " 'GTT': 11,\n",
       " 'TAA': 6,\n",
       " 'TAC': 13,\n",
       " 'TAG': 10,\n",
       " 'TAT': 10,\n",
       " 'TCA': 18,\n",
       " 'TCC': 16,\n",
       " 'TCG': 14,\n",
       " 'TCT': 14,\n",
       " 'TGA': 16,\n",
       " 'TGC': 20,\n",
       " 'TGG': 20,\n",
       " 'TGT': 17,\n",
       " 'TTA': 3,\n",
       " 'TTC': 11,\n",
       " 'TTG': 17,\n",
       " 'TTT': 8}"
      ]
     },
     "execution_count": 84,
     "metadata": {},
     "output_type": "execute_result"
    }
   ],
   "source": [
    "pre_indexing_by_sequence_mismatch(Xtr0[0],3,1)"
   ]
  },
  {
   "cell_type": "code",
   "execution_count": 95,
   "metadata": {},
   "outputs": [
    {
     "data": {
      "text/plain": [
       "[['AAA', 'CAA', 'GAA', 'TAA', 'ACA', 'AGA', 'ATA', 'AAC', 'AAG', 'AAT'],\n",
       " ['AAC', 'CAC', 'GAC', 'TAC', 'ACC', 'AGC', 'ATC', 'AAA', 'AAG', 'AAT'],\n",
       " ['AAG', 'CAG', 'GAG', 'TAG', 'ACG', 'AGG', 'ATG', 'AAA', 'AAC', 'AAT'],\n",
       " ['AAT', 'CAT', 'GAT', 'TAT', 'ACT', 'AGT', 'ATT', 'AAA', 'AAC', 'AAG'],\n",
       " ['ACA', 'CCA', 'GCA', 'TCA', 'AAA', 'AGA', 'ATA', 'ACC', 'ACG', 'ACT'],\n",
       " ['ACC', 'CCC', 'GCC', 'TCC', 'AAC', 'AGC', 'ATC', 'ACA', 'ACG', 'ACT'],\n",
       " ['ACG', 'CCG', 'GCG', 'TCG', 'AAG', 'AGG', 'ATG', 'ACA', 'ACC', 'ACT'],\n",
       " ['ACT', 'CCT', 'GCT', 'TCT', 'AAT', 'AGT', 'ATT', 'ACA', 'ACC', 'ACG'],\n",
       " ['AGA', 'CGA', 'GGA', 'TGA', 'AAA', 'ACA', 'ATA', 'AGC', 'AGG', 'AGT'],\n",
       " ['AGC', 'CGC', 'GGC', 'TGC', 'AAC', 'ACC', 'ATC', 'AGA', 'AGG', 'AGT'],\n",
       " ['AGG', 'CGG', 'GGG', 'TGG', 'AAG', 'ACG', 'ATG', 'AGA', 'AGC', 'AGT'],\n",
       " ['AGT', 'CGT', 'GGT', 'TGT', 'AAT', 'ACT', 'ATT', 'AGA', 'AGC', 'AGG'],\n",
       " ['ATA', 'CTA', 'GTA', 'TTA', 'AAA', 'ACA', 'AGA', 'ATC', 'ATG', 'ATT'],\n",
       " ['ATC', 'CTC', 'GTC', 'TTC', 'AAC', 'ACC', 'AGC', 'ATA', 'ATG', 'ATT'],\n",
       " ['ATG', 'CTG', 'GTG', 'TTG', 'AAG', 'ACG', 'AGG', 'ATA', 'ATC', 'ATT'],\n",
       " ['ATT', 'CTT', 'GTT', 'TTT', 'AAT', 'ACT', 'AGT', 'ATA', 'ATC', 'ATG'],\n",
       " ['CAA', 'AAA', 'GAA', 'TAA', 'CCA', 'CGA', 'CTA', 'CAC', 'CAG', 'CAT'],\n",
       " ['CAC', 'AAC', 'GAC', 'TAC', 'CCC', 'CGC', 'CTC', 'CAA', 'CAG', 'CAT'],\n",
       " ['CAG', 'AAG', 'GAG', 'TAG', 'CCG', 'CGG', 'CTG', 'CAA', 'CAC', 'CAT'],\n",
       " ['CAT', 'AAT', 'GAT', 'TAT', 'CCT', 'CGT', 'CTT', 'CAA', 'CAC', 'CAG'],\n",
       " ['CCA', 'ACA', 'GCA', 'TCA', 'CAA', 'CGA', 'CTA', 'CCC', 'CCG', 'CCT'],\n",
       " ['CCC', 'ACC', 'GCC', 'TCC', 'CAC', 'CGC', 'CTC', 'CCA', 'CCG', 'CCT'],\n",
       " ['CCG', 'ACG', 'GCG', 'TCG', 'CAG', 'CGG', 'CTG', 'CCA', 'CCC', 'CCT'],\n",
       " ['CCT', 'ACT', 'GCT', 'TCT', 'CAT', 'CGT', 'CTT', 'CCA', 'CCC', 'CCG'],\n",
       " ['CGA', 'AGA', 'GGA', 'TGA', 'CAA', 'CCA', 'CTA', 'CGC', 'CGG', 'CGT'],\n",
       " ['CGC', 'AGC', 'GGC', 'TGC', 'CAC', 'CCC', 'CTC', 'CGA', 'CGG', 'CGT'],\n",
       " ['CGG', 'AGG', 'GGG', 'TGG', 'CAG', 'CCG', 'CTG', 'CGA', 'CGC', 'CGT'],\n",
       " ['CGT', 'AGT', 'GGT', 'TGT', 'CAT', 'CCT', 'CTT', 'CGA', 'CGC', 'CGG'],\n",
       " ['CTA', 'ATA', 'GTA', 'TTA', 'CAA', 'CCA', 'CGA', 'CTC', 'CTG', 'CTT'],\n",
       " ['CTC', 'ATC', 'GTC', 'TTC', 'CAC', 'CCC', 'CGC', 'CTA', 'CTG', 'CTT'],\n",
       " ['CTG', 'ATG', 'GTG', 'TTG', 'CAG', 'CCG', 'CGG', 'CTA', 'CTC', 'CTT'],\n",
       " ['CTT', 'ATT', 'GTT', 'TTT', 'CAT', 'CCT', 'CGT', 'CTA', 'CTC', 'CTG'],\n",
       " ['GAA', 'AAA', 'CAA', 'TAA', 'GCA', 'GGA', 'GTA', 'GAC', 'GAG', 'GAT'],\n",
       " ['GAC', 'AAC', 'CAC', 'TAC', 'GCC', 'GGC', 'GTC', 'GAA', 'GAG', 'GAT'],\n",
       " ['GAG', 'AAG', 'CAG', 'TAG', 'GCG', 'GGG', 'GTG', 'GAA', 'GAC', 'GAT'],\n",
       " ['GAT', 'AAT', 'CAT', 'TAT', 'GCT', 'GGT', 'GTT', 'GAA', 'GAC', 'GAG'],\n",
       " ['GCA', 'ACA', 'CCA', 'TCA', 'GAA', 'GGA', 'GTA', 'GCC', 'GCG', 'GCT'],\n",
       " ['GCC', 'ACC', 'CCC', 'TCC', 'GAC', 'GGC', 'GTC', 'GCA', 'GCG', 'GCT'],\n",
       " ['GCG', 'ACG', 'CCG', 'TCG', 'GAG', 'GGG', 'GTG', 'GCA', 'GCC', 'GCT'],\n",
       " ['GCT', 'ACT', 'CCT', 'TCT', 'GAT', 'GGT', 'GTT', 'GCA', 'GCC', 'GCG'],\n",
       " ['GGA', 'AGA', 'CGA', 'TGA', 'GAA', 'GCA', 'GTA', 'GGC', 'GGG', 'GGT'],\n",
       " ['GGC', 'AGC', 'CGC', 'TGC', 'GAC', 'GCC', 'GTC', 'GGA', 'GGG', 'GGT'],\n",
       " ['GGG', 'AGG', 'CGG', 'TGG', 'GAG', 'GCG', 'GTG', 'GGA', 'GGC', 'GGT'],\n",
       " ['GGT', 'AGT', 'CGT', 'TGT', 'GAT', 'GCT', 'GTT', 'GGA', 'GGC', 'GGG'],\n",
       " ['GTA', 'ATA', 'CTA', 'TTA', 'GAA', 'GCA', 'GGA', 'GTC', 'GTG', 'GTT'],\n",
       " ['GTC', 'ATC', 'CTC', 'TTC', 'GAC', 'GCC', 'GGC', 'GTA', 'GTG', 'GTT'],\n",
       " ['GTG', 'ATG', 'CTG', 'TTG', 'GAG', 'GCG', 'GGG', 'GTA', 'GTC', 'GTT'],\n",
       " ['GTT', 'ATT', 'CTT', 'TTT', 'GAT', 'GCT', 'GGT', 'GTA', 'GTC', 'GTG'],\n",
       " ['TAA', 'AAA', 'CAA', 'GAA', 'TCA', 'TGA', 'TTA', 'TAC', 'TAG', 'TAT'],\n",
       " ['TAC', 'AAC', 'CAC', 'GAC', 'TCC', 'TGC', 'TTC', 'TAA', 'TAG', 'TAT'],\n",
       " ['TAG', 'AAG', 'CAG', 'GAG', 'TCG', 'TGG', 'TTG', 'TAA', 'TAC', 'TAT'],\n",
       " ['TAT', 'AAT', 'CAT', 'GAT', 'TCT', 'TGT', 'TTT', 'TAA', 'TAC', 'TAG'],\n",
       " ['TCA', 'ACA', 'CCA', 'GCA', 'TAA', 'TGA', 'TTA', 'TCC', 'TCG', 'TCT'],\n",
       " ['TCC', 'ACC', 'CCC', 'GCC', 'TAC', 'TGC', 'TTC', 'TCA', 'TCG', 'TCT'],\n",
       " ['TCG', 'ACG', 'CCG', 'GCG', 'TAG', 'TGG', 'TTG', 'TCA', 'TCC', 'TCT'],\n",
       " ['TCT', 'ACT', 'CCT', 'GCT', 'TAT', 'TGT', 'TTT', 'TCA', 'TCC', 'TCG'],\n",
       " ['TGA', 'AGA', 'CGA', 'GGA', 'TAA', 'TCA', 'TTA', 'TGC', 'TGG', 'TGT'],\n",
       " ['TGC', 'AGC', 'CGC', 'GGC', 'TAC', 'TCC', 'TTC', 'TGA', 'TGG', 'TGT'],\n",
       " ['TGG', 'AGG', 'CGG', 'GGG', 'TAG', 'TCG', 'TTG', 'TGA', 'TGC', 'TGT'],\n",
       " ['TGT', 'AGT', 'CGT', 'GGT', 'TAT', 'TCT', 'TTT', 'TGA', 'TGC', 'TGG'],\n",
       " ['TTA', 'ATA', 'CTA', 'GTA', 'TAA', 'TCA', 'TGA', 'TTC', 'TTG', 'TTT'],\n",
       " ['TTC', 'ATC', 'CTC', 'GTC', 'TAC', 'TCC', 'TGC', 'TTA', 'TTG', 'TTT'],\n",
       " ['TTG', 'ATG', 'CTG', 'GTG', 'TAG', 'TCG', 'TGG', 'TTA', 'TTC', 'TTT'],\n",
       " ['TTT', 'ATT', 'CTT', 'GTT', 'TAT', 'TCT', 'TGT', 'TTA', 'TTC', 'TTG']]"
      ]
     },
     "execution_count": 95,
     "metadata": {},
     "output_type": "execute_result"
    }
   ],
   "source": [
    "all_possible_substrings_mismatch(3,1)"
   ]
  },
  {
   "cell_type": "code",
   "execution_count": 100,
   "metadata": {},
   "outputs": [],
   "source": [
    "def pre_indexing_mismatch(X, k,m):\n",
    "    \"\"\"\n",
    "    Transforms an input array into a sparse matrix encoding the number of occurences of each letter of\n",
    "    the alphabet composed of substrings of size k\n",
    "    \"\"\"\n",
    "    i = 0\n",
    "    n = X.shape[0]\n",
    "    alphabet = all_possible_substrings_mismatch(k,m)\n",
    "    D = np.zeros((n,len(alphabet)))\n",
    "    for x in X:\n",
    "        d = dict()\n",
    "        for letters in alphabet :\n",
    "            cnt = 0\n",
    "            for letter in letters:\n",
    "                cnt += len(re.findall(letter, x, overlapped=True))\n",
    "            d[letters[0]] = cnt\n",
    "        data = np.array(list(d.items()))\n",
    "        D[i] = data[:,1]\n",
    "        i+=1\n",
    "    D = csr_matrix(D, dtype = int)\n",
    "    return D"
   ]
  },
  {
   "cell_type": "code",
   "execution_count": 101,
   "metadata": {},
   "outputs": [
    {
     "data": {
      "text/plain": [
       "array([[11, 17, 13,  7, 19, 18, 13, 17, 13, 16, 17, 12, 11, 10, 17,  8,\n",
       "        16, 19, 19, 16, 20, 26, 21, 14, 14, 20, 19, 15, 12, 18, 19, 11,\n",
       "        15, 18, 16, 13, 14, 24, 21, 16, 19, 19, 24, 18, 12, 20, 19, 11,\n",
       "         6, 13, 10, 10, 18, 16, 14, 14, 16, 20, 20, 17,  3, 11, 17,  8],\n",
       "       [20, 19, 10, 19, 17, 15,  8, 20, 11, 16,  9, 14, 22, 18, 17, 26,\n",
       "        18, 12, 12, 19, 18, 19, 11, 15, 12,  6,  2, 13, 19, 18, 12, 25,\n",
       "        10,  9, 11, 14,  9,  9,  3, 15,  5,  2,  2, 13, 18, 16, 10, 19,\n",
       "        20, 20, 17, 31, 18, 21, 12, 27, 16, 12,  9, 23, 28, 25, 20, 34],\n",
       "       [36, 24, 26, 26, 24, 15, 10, 19, 27, 14, 16, 17, 26, 15, 14, 18,\n",
       "        25, 17, 17, 17, 18,  9,  6,  9, 10,  9,  9, 10, 18,  7, 12, 14,\n",
       "        24, 13, 15, 13, 21,  7, 12, 11, 12, 14, 14, 13, 17, 13, 12, 14,\n",
       "        28, 14, 16, 16, 14, 11, 10, 11, 16, 13, 13, 12, 17, 12, 17, 11],\n",
       "       [32, 22, 22, 22, 20, 12, 12, 16, 23, 16, 18, 17, 19, 10, 18, 18,\n",
       "        24, 14, 16, 13, 15, 13, 11,  8, 16,  7, 13,  9, 12, 11, 11, 14,\n",
       "        22, 13, 17, 17, 14, 11,  9, 13, 17,  9, 19, 20, 16, 12, 18, 16,\n",
       "        20, 11, 19, 13, 15, 10, 12, 10, 16, 16, 16, 17, 16, 14, 18, 20],\n",
       "       [23, 17, 24, 17, 12, 13, 19, 15, 23, 19, 20, 17, 16, 10, 23, 11,\n",
       "        17, 13, 17, 15, 14, 13, 12, 13, 14, 10, 16, 10, 14, 16, 16, 15,\n",
       "        21, 15, 20, 15, 21, 10, 10, 18, 17, 17, 20, 15, 13, 15, 14, 14,\n",
       "        16, 13, 18, 12, 14, 16, 10, 15, 17, 14, 17, 15, 15, 14, 11, 14]])"
      ]
     },
     "execution_count": 101,
     "metadata": {},
     "output_type": "execute_result"
    }
   ],
   "source": [
    "pre_indexing_mismatch(Xtr0[:5],3,1).toarray()"
   ]
  },
  {
   "cell_type": "code",
   "execution_count": 195,
   "metadata": {},
   "outputs": [
    {
     "name": "stdout",
     "output_type": "stream",
     "text": [
      "train  [[ 4  8  4  4 10 11  4  6  6  7 10  7  0  6 12  1]\n",
      " [ 7  5  6  9  6  9  0  8  3  1  0  7 11  8  5 15]\n",
      " [18  6  8  6 10  3  0  5  3  6  6  6  8  3  6  6]\n",
      " [16  5  8  4  8  6  1  3  7  3  8  7  3  3  8 10]\n",
      " [11  4 11  4  6  5  1  9  8  6  9  4  4  6  7  5]]\n",
      "\n",
      "val  [[ 1  5 11  4 11 10  0  9  5  6  2  7  3  9  7 10]\n",
      " [ 8  9  6  1 10 11  2  8  6  5 11  5  0  7  7  4]\n",
      " [ 9  3 12  4 11  6  1  3  7  7 15  6  1  5  7  3]\n",
      " [ 6  5  6  6 10 11  1 10  4  9  7  3  3  8  8  3]]\n",
      "\n",
      "[[800 532 597 636 642]\n",
      " [532 866 674 667 612]\n",
      " [597 674 856 789 714]\n",
      " [636 667 789 824 716]\n",
      " [642 612 714 716 740]]\n"
     ]
    }
   ],
   "source": [
    "## example\n",
    "\n",
    "Xtr0[:5]\n",
    "Dtr = pre_indexing(Xtr0[:5],2).toarray()\n",
    "Dval = pre_indexing(Xtr0[15:19],2).toarray()\n",
    "\n",
    "print(\"train \", Dtr)\n",
    "print(\"\")\n",
    "print(\"val \", Dval)\n",
    "print(\"\")\n",
    "print(np.inner(Dtr, Dtr))\n"
   ]
  },
  {
   "cell_type": "code",
   "execution_count": 143,
   "metadata": {},
   "outputs": [],
   "source": [
    "#def spectrum_function(x,y,k):\n",
    "#    phi_x = pre_indexing(x, k)\n",
    "#    phi_y = pre_indexing(y, k)\n",
    "#    \n",
    "#    merge_dict = {k: phi_x.get(k, 0) * phi_y.get(k, 0) for k in set(phi_x)}\n",
    "#    return sum(merge_dict.values())\n",
    "\n",
    "\n",
    "## TODO ##\n",
    "def spectrum_kernel(X_train, X_val, k, mode=\"train\"):\n",
    "    n_train = X_train.shape[0]\n",
    "    n_val = X_val.shape[0]\n",
    "    \n",
    "    diag_train, diag_val = np.zeros(n_train), np.zeros(n_val)\n",
    "    \n",
    "    for i in range(n_train):\n",
    "        diag_train[i] = spectrum_function(X_train[i], X_train[i],k)\n",
    "        \n",
    "    for i in range(n_val):\n",
    "        diag_val[i] = spectrum_function(X_train[i], X_val[i],k)\n",
    "        \n",
    "    K_train = diag_train * np.eye(n_train) # Computation along the diagonal \n",
    "    K_val = diag_val * np.eye(n_val) # Computation along the diagonal \n",
    "    \n",
    "    if mode==\"test\":\n",
    "        for i in range(n_val):\n",
    "            for j in range(n_train):\n",
    "                val = spectrum_function(X_val[i], X_train[j], k)\n",
    "                K_val[i,j] = val\n",
    "        return(K_val)\n",
    "    \n",
    "    else:\n",
    "        for i in range(n_train):\n",
    "            for j in range(i+1,n_train):\n",
    "                val = spectrum_function(X_train[i], X_train[j], k)\n",
    "                K_train[i,j] = val\n",
    "                K_train[j,i] = val\n",
    "        return(K_train)"
   ]
  },
  {
   "cell_type": "code",
   "execution_count": 130,
   "metadata": {},
   "outputs": [
    {
     "name": "stdout",
     "output_type": "stream",
     "text": [
      "x  {'AAA': 2, 'AAC': 0, 'AAG': 0, 'AAT': 2, 'ACA': 3, 'ACC': 3, 'ACG': 2, 'ACT': 0, 'AGA': 2, 'AGC': 0, 'AGG': 1, 'AGT': 1, 'ATA': 0, 'ATC': 2, 'ATG': 2, 'ATT': 0, 'CAA': 2, 'CAC': 5, 'CAG': 2, 'CAT': 1, 'CCA': 3, 'CCC': 3, 'CCG': 1, 'CCT': 3, 'CGA': 1, 'CGC': 1, 'CGG': 2, 'CGT': 0, 'CTA': 0, 'CTC': 2, 'CTG': 4, 'CTT': 0, 'GAA': 0, 'GAC': 3, 'GAG': 2, 'GAT': 1, 'GCA': 4, 'GCC': 2, 'GCG': 0, 'GCT': 1, 'GGA': 1, 'GGC': 4, 'GGG': 3, 'GGT': 2, 'GTA': 0, 'GTC': 1, 'GTG': 5, 'GTT': 1, 'TAA': 0, 'TAC': 0, 'TAG': 0, 'TAT': 0, 'TCA': 0, 'TCC': 3, 'TCG': 1, 'TCT': 2, 'TGA': 2, 'TGC': 2, 'TGG': 4, 'TGT': 4, 'TTA': 0, 'TTC': 0, 'TTG': 1, 'TTT': 0}\n",
      "\n",
      "y  {'AAA': 1, 'AAC': 1, 'AAG': 3, 'AAT': 2, 'ACA': 1, 'ACC': 4, 'ACG': 0, 'ACT': 0, 'AGA': 3, 'AGC': 0, 'AGG': 0, 'AGT': 3, 'ATA': 3, 'ATC': 4, 'ATG': 0, 'ATT': 2, 'CAA': 2, 'CAC': 2, 'CAG': 1, 'CAT': 1, 'CCA': 3, 'CCC': 2, 'CCG': 0, 'CCT': 4, 'CGA': 0, 'CGC': 0, 'CGG': 0, 'CGT': 0, 'CTA': 4, 'CTC': 1, 'CTG': 1, 'CTT': 1, 'GAA': 1, 'GAC': 0, 'GAG': 0, 'GAT': 2, 'GCA': 0, 'GCC': 1, 'GCG': 0, 'GCT': 0, 'GGA': 0, 'GGC': 0, 'GGG': 0, 'GGT': 0, 'GTA': 1, 'GTC': 0, 'GTG': 2, 'GTT': 4, 'TAA': 3, 'TAC': 2, 'TAG': 2, 'TAT': 4, 'TCA': 2, 'TCC': 2, 'TCG': 0, 'TCT': 4, 'TGA': 0, 'TGC': 1, 'TGG': 0, 'TGT': 4, 'TTA': 3, 'TTC': 3, 'TTG': 2, 'TTT': 7}\n",
      "\n",
      "dict_values([2, 0, 0, 4, 3, 12, 0, 0, 6, 0, 0, 3, 0, 8, 0, 0, 4, 10, 2, 1, 9, 6, 0, 12, 0, 0, 0, 0, 0, 2, 4, 0, 0, 0, 0, 2, 0, 2, 0, 0, 0, 0, 0, 0, 0, 0, 10, 4, 0, 0, 0, 0, 0, 6, 0, 8, 0, 2, 0, 16, 0, 0, 2, 0])\n"
     ]
    }
   ],
   "source": [
    "## example\n",
    "\n",
    "x = pre_indexing_by_sequence(Xtr0[0], 3)\n",
    "print(\"x \", x)\n",
    "print(\"\")\n",
    "y = pre_indexing_by_sequence(Xtr0[1], 3)\n",
    "print('y ', y)\n",
    "\n",
    "print('')\n",
    "print(({k: x.get(k, 0) * y.get(k, 0) for k in x}.values()))\n"
   ]
  },
  {
   "cell_type": "code",
   "execution_count": null,
   "metadata": {},
   "outputs": [],
   "source": []
  }
 ],
 "metadata": {
  "kernelspec": {
   "display_name": "optim",
   "language": "python",
   "name": "optim"
  },
  "language_info": {
   "codemirror_mode": {
    "name": "ipython",
    "version": 3
   },
   "file_extension": ".py",
   "mimetype": "text/x-python",
   "name": "python",
   "nbconvert_exporter": "python",
   "pygments_lexer": "ipython3",
   "version": "3.8.5"
  }
 },
 "nbformat": 4,
 "nbformat_minor": 4
}
